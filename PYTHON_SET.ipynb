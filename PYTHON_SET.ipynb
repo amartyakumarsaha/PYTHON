{
  "nbformat": 4,
  "nbformat_minor": 0,
  "metadata": {
    "colab": {
      "name": "PYTHON SET.ipynb",
      "provenance": []
    },
    "kernelspec": {
      "name": "python3",
      "display_name": "Python 3"
    },
    "language_info": {
      "name": "python"
    }
  },
  "cells": [
    {
      "cell_type": "markdown",
      "metadata": {
        "id": "7wXMeDO75C9D"
      },
      "source": [
        "***HOW TO CREATE EMPTY SET***"
      ]
    },
    {
      "cell_type": "code",
      "metadata": {
        "colab": {
          "base_uri": "https://localhost:8080/"
        },
        "id": "evuBnZPY5PwL",
        "outputId": "7631bcc5-7bd6-46ce-b228-de1655861a6d"
      },
      "source": [
        "s={} # this not the way to create empty set.\n",
        "print(s)\n",
        "print(type(s))\n",
        "s=set()   # use set() to create a empty set.\n",
        "print(type(s))"
      ],
      "execution_count": null,
      "outputs": [
        {
          "output_type": "stream",
          "text": [
            "{}\n",
            "<class 'dict'>\n",
            "<class 'set'>\n"
          ],
          "name": "stdout"
        }
      ]
    },
    {
      "cell_type": "markdown",
      "metadata": {
        "id": "0pChwV8B5gVL"
      },
      "source": [
        "***CREATING A SET OF INTEGERS***"
      ]
    },
    {
      "cell_type": "code",
      "metadata": {
        "colab": {
          "base_uri": "https://localhost:8080/"
        },
        "id": "oCpMM-6H5UpN",
        "outputId": "e678571d-aeb5-4636-fe9b-c1ab99eb5189"
      },
      "source": [
        "s={10,20,30}\n",
        "print(s)"
      ],
      "execution_count": null,
      "outputs": [
        {
          "output_type": "stream",
          "text": [
            "{10, 20, 30}\n"
          ],
          "name": "stdout"
        }
      ]
    },
    {
      "cell_type": "markdown",
      "metadata": {
        "id": "rWX-l56w5uTk"
      },
      "source": [
        "***CREATING A SET OF MIXED DATA TYPES***"
      ]
    },
    {
      "cell_type": "code",
      "metadata": {
        "colab": {
          "base_uri": "https://localhost:8080/"
        },
        "id": "4t4g3pS05s6q",
        "outputId": "a6880fda-6119-4639-e7cc-fa6845c9c03e"
      },
      "source": [
        "s={10,\"Google\",45.6}\n",
        "print(s)"
      ],
      "execution_count": null,
      "outputs": [
        {
          "output_type": "stream",
          "text": [
            "{'Google', 10, 45.6}\n"
          ],
          "name": "stdout"
        }
      ]
    },
    {
      "cell_type": "code",
      "metadata": {
        "colab": {
          "base_uri": "https://localhost:8080/"
        },
        "id": "CB_7M_-X6Ddw",
        "outputId": "fe70eb18-9c09-4a57-f24f-e4146f2dbfb8"
      },
      "source": [
        "s = {10.0,\"Google\",(20,30,40)}\n",
        "print(s)"
      ],
      "execution_count": null,
      "outputs": [
        {
          "output_type": "stream",
          "text": [
            "{'Google', (20, 30, 40), 10.0}\n"
          ],
          "name": "stdout"
        }
      ]
    },
    {
      "cell_type": "code",
      "metadata": {
        "colab": {
          "base_uri": "https://localhost:8080/",
          "height": 178
        },
        "id": "yR2YXhKV73TN",
        "outputId": "49d93f35-9d82-4572-9e0c-1a7e7127c0b7"
      },
      "source": [
        "s = {10,20,[30,40],50}\n",
        "print(s)          # getting error because set cannot have mutable items."
      ],
      "execution_count": null,
      "outputs": [
        {
          "output_type": "error",
          "ename": "TypeError",
          "evalue": "ignored",
          "traceback": [
            "\u001b[0;31m---------------------------------------------------------------------------\u001b[0m",
            "\u001b[0;31mTypeError\u001b[0m                                 Traceback (most recent call last)",
            "\u001b[0;32m<ipython-input-13-b5ecc292e622>\u001b[0m in \u001b[0;36m<module>\u001b[0;34m()\u001b[0m\n\u001b[0;32m----> 1\u001b[0;31m \u001b[0ms\u001b[0m \u001b[0;34m=\u001b[0m \u001b[0;34m{\u001b[0m\u001b[0;36m10\u001b[0m\u001b[0;34m,\u001b[0m\u001b[0;36m20\u001b[0m\u001b[0;34m,\u001b[0m\u001b[0;34m[\u001b[0m\u001b[0;36m30\u001b[0m\u001b[0;34m,\u001b[0m\u001b[0;36m40\u001b[0m\u001b[0;34m]\u001b[0m\u001b[0;34m,\u001b[0m\u001b[0;36m50\u001b[0m\u001b[0;34m}\u001b[0m\u001b[0;34m\u001b[0m\u001b[0;34m\u001b[0m\u001b[0m\n\u001b[0m\u001b[1;32m      2\u001b[0m \u001b[0mprint\u001b[0m\u001b[0;34m(\u001b[0m\u001b[0ms\u001b[0m\u001b[0;34m)\u001b[0m\u001b[0;34m\u001b[0m\u001b[0;34m\u001b[0m\u001b[0m\n",
            "\u001b[0;31mTypeError\u001b[0m: unhashable type: 'list'"
          ]
        }
      ]
    },
    {
      "cell_type": "markdown",
      "metadata": {
        "id": "i0xfJKnTI5XE"
      },
      "source": [
        "***DIFFERENT SET METHODS WITH EXAMPLES***"
      ]
    },
    {
      "cell_type": "markdown",
      "metadata": {
        "id": "MYALMdirG_Uv"
      },
      "source": [
        "***add() -->***The set add() method adds a given element to a set. If the element is already present, it doesn't add any element.\n",
        "\n"
      ]
    },
    {
      "cell_type": "code",
      "metadata": {
        "id": "fxwhWo8xIO1j",
        "colab": {
          "base_uri": "https://localhost:8080/"
        },
        "outputId": "87201bc7-3db1-4bdb-b07b-e873321ad1fd"
      },
      "source": [
        "s={'a','e','i','u'}\n",
        "s.add('o')\n",
        "print(s)"
      ],
      "execution_count": null,
      "outputs": [
        {
          "output_type": "stream",
          "text": [
            "{'o', 'e', 'a', 'i', 'u'}\n"
          ],
          "name": "stdout"
        }
      ]
    },
    {
      "cell_type": "code",
      "metadata": {
        "colab": {
          "base_uri": "https://localhost:8080/"
        },
        "id": "_ofYpPz_H2Zh",
        "outputId": "ab3294fc-579b-48a0-fbe6-ce5f5d6d0f7f"
      },
      "source": [
        "s={'a','e','i','u'}\n",
        "s.add('a')  # 'a' is not added in the set because 'a' is already present in the set s.\n",
        "print(s)"
      ],
      "execution_count": null,
      "outputs": [
        {
          "output_type": "stream",
          "text": [
            "{'u', 'e', 'i', 'a'}\n"
          ],
          "name": "stdout"
        }
      ]
    },
    {
      "cell_type": "code",
      "metadata": {
        "colab": {
          "base_uri": "https://localhost:8080/"
        },
        "id": "8OQXQFLdIOVE",
        "outputId": "61500748-fb57-445e-eb5a-dcdcc21bb438"
      },
      "source": [
        "s={10,20,30,40,50}\n",
        "t=(60,70)\n",
        "s.add(t)\n",
        "print(s)"
      ],
      "execution_count": null,
      "outputs": [
        {
          "output_type": "stream",
          "text": [
            "{40, 10, 50, 20, (60, 70), 30}\n"
          ],
          "name": "stdout"
        }
      ]
    },
    {
      "cell_type": "code",
      "metadata": {
        "colab": {
          "base_uri": "https://localhost:8080/"
        },
        "id": "E9NkEIStI43K",
        "outputId": "afbea9b7-f31d-45a1-a7d9-cc74b681c7f6"
      },
      "source": [
        "s={10,20,30,40,50}\n",
        "t=(60,70)\n",
        "s.add(t)\n",
        "print(s)\n",
        "s.add(t) # we tried added same tuple t again but  it is not added in the set s because we can't add same element to set. \n",
        "print(s) "
      ],
      "execution_count": null,
      "outputs": [
        {
          "output_type": "stream",
          "text": [
            "{40, 10, 50, 20, (60, 70), 30}\n",
            "{40, 10, 50, 20, (60, 70), 30}\n"
          ],
          "name": "stdout"
        }
      ]
    },
    {
      "cell_type": "markdown",
      "metadata": {
        "id": "4jQQwVRdKO8Q"
      },
      "source": [
        "***clear() -->***The clear() method removes all elements from the set."
      ]
    },
    {
      "cell_type": "code",
      "metadata": {
        "colab": {
          "base_uri": "https://localhost:8080/"
        },
        "id": "Tf2sIYC7JGSy",
        "outputId": "a03cc5ef-d543-4a31-db4d-6814d284ceb8"
      },
      "source": [
        "s={'a','e','i','o','u'}\n",
        "s.clear() # returns an empty set.\n",
        "print(s) "
      ],
      "execution_count": null,
      "outputs": [
        {
          "output_type": "stream",
          "text": [
            "set()\n"
          ],
          "name": "stdout"
        }
      ]
    },
    {
      "cell_type": "code",
      "metadata": {
        "colab": {
          "base_uri": "https://localhost:8080/"
        },
        "id": "PHqy7628Kqrm",
        "outputId": "3a416f92-e7d6-4955-c327-4970c4d1daef"
      },
      "source": [
        "s={10,20,30,40,50,(60,70)}\n",
        "s.clear()\n",
        "print(s)"
      ],
      "execution_count": null,
      "outputs": [
        {
          "output_type": "stream",
          "text": [
            "set()\n"
          ],
          "name": "stdout"
        }
      ]
    },
    {
      "cell_type": "markdown",
      "metadata": {
        "id": "BSq0RAFaViAY"
      },
      "source": [
        "***copy() -->***The copy() method returns a shallow copy of the set."
      ]
    },
    {
      "cell_type": "code",
      "metadata": {
        "colab": {
          "base_uri": "https://localhost:8080/"
        },
        "id": "c2LcMTGXVr6m",
        "outputId": "ef8cc143-f71a-4ba0-e4c8-1b1d7281f0ba"
      },
      "source": [
        "# set can be copied using '=' operator also.\n",
        "s1={10,20,30,40,50}\n",
        "print(s1)\n",
        "s2=s1\n",
        "print(s2)"
      ],
      "execution_count": null,
      "outputs": [
        {
          "output_type": "stream",
          "text": [
            "{40, 10, 50, 20, 30}\n",
            "{40, 10, 50, 20, 30}\n"
          ],
          "name": "stdout"
        }
      ]
    },
    {
      "cell_type": "code",
      "metadata": {
        "colab": {
          "base_uri": "https://localhost:8080/"
        },
        "id": "k7SCjorsWICr",
        "outputId": "160aad4b-0fe9-4f12-a65b-0396c5d9faae"
      },
      "source": [
        "s1={10,20,30,40,50}\n",
        "print(s1)\n",
        "s2=s1.copy()\n",
        "print(s2)"
      ],
      "execution_count": null,
      "outputs": [
        {
          "output_type": "stream",
          "text": [
            "{40, 10, 50, 20, 30}\n",
            "{50, 20, 40, 10, 30}\n"
          ],
          "name": "stdout"
        }
      ]
    },
    {
      "cell_type": "markdown",
      "metadata": {
        "id": "POXvHyXRWuo_"
      },
      "source": [
        "***difference() -->***The difference() method returns the set difference of two sets.If A and B are two sets. The set difference of A and B is a set of elements that exists only in set A but not in B."
      ]
    },
    {
      "cell_type": "code",
      "metadata": {
        "id": "Y45e1aDiWXuT",
        "colab": {
          "base_uri": "https://localhost:8080/"
        },
        "outputId": "ee8a6456-af90-4e48-d3e5-f2f0288f0f11"
      },
      "source": [
        "# '-' operator can be used to do set difference\n",
        "s1={10,20,30,40}\n",
        "s2={40,30}\n",
        "print(s1-s2)"
      ],
      "execution_count": null,
      "outputs": [
        {
          "output_type": "stream",
          "text": [
            "{10, 20}\n"
          ],
          "name": "stdout"
        }
      ]
    },
    {
      "cell_type": "code",
      "metadata": {
        "colab": {
          "base_uri": "https://localhost:8080/"
        },
        "id": "iutEsrCt8uht",
        "outputId": "aa4795f3-9c6c-4f7a-e31f-f6cef57e78d7"
      },
      "source": [
        "s1={10,20,30,40}\n",
        "s2={40,30}\n",
        "print(s1.difference(s2))\n",
        "print(s1)"
      ],
      "execution_count": null,
      "outputs": [
        {
          "output_type": "stream",
          "text": [
            "{10, 20}\n",
            "{40, 10, 20, 30}\n"
          ],
          "name": "stdout"
        }
      ]
    },
    {
      "cell_type": "markdown",
      "metadata": {
        "id": "fbPcl3THOjnV"
      },
      "source": [
        "***difference_update() -->***The difference_update() updates the set calling difference_update() method with the difference of sets."
      ]
    },
    {
      "cell_type": "code",
      "metadata": {
        "colab": {
          "base_uri": "https://localhost:8080/"
        },
        "id": "a93uEGQJOEwi",
        "outputId": "25e8c190-28f5-48e0-bd86-4367caf12704"
      },
      "source": [
        "s1={10,20,30,40}\n",
        "s2={40,30}\n",
        "print(s1.difference_update(s2))\n",
        "print(s1)"
      ],
      "execution_count": null,
      "outputs": [
        {
          "output_type": "stream",
          "text": [
            "None\n",
            "{20, 10}\n"
          ],
          "name": "stdout"
        }
      ]
    },
    {
      "cell_type": "code",
      "metadata": {
        "colab": {
          "base_uri": "https://localhost:8080/"
        },
        "id": "wa1ZjkV-VizK",
        "outputId": "b80a4635-0166-43cd-f958-c94e5c0800ae"
      },
      "source": [
        "s1={10,20,30,40}\n",
        "s2={40,30}\n",
        "print(s1.difference(s2))\n",
        "print(s1)\n",
        "print(s1.difference_update(s2))\n",
        "print(s1)"
      ],
      "execution_count": null,
      "outputs": [
        {
          "output_type": "stream",
          "text": [
            "{10, 20}\n",
            "{40, 10, 20, 30}\n",
            "None\n",
            "{20, 10}\n"
          ],
          "name": "stdout"
        }
      ]
    },
    {
      "cell_type": "markdown",
      "metadata": {
        "id": "2Bu27vBfapOT"
      },
      "source": [
        "***discard() -->***The discard() method removes a specified element from the set (if present)."
      ]
    },
    {
      "cell_type": "code",
      "metadata": {
        "colab": {
          "base_uri": "https://localhost:8080/"
        },
        "id": "zvLCAuyGa8bH",
        "outputId": "5095da09-079f-49d8-8588-114dbe46928a"
      },
      "source": [
        "s={1,2,3,4,5}\n",
        "s.discard(4)\n",
        "print(s)"
      ],
      "execution_count": null,
      "outputs": [
        {
          "output_type": "stream",
          "text": [
            "{1, 2, 3, 5}\n"
          ],
          "name": "stdout"
        }
      ]
    },
    {
      "cell_type": "code",
      "metadata": {
        "colab": {
          "base_uri": "https://localhost:8080/"
        },
        "id": "CoI1fr-ebG6l",
        "outputId": "70e6686b-3413-4f98-d508-9b4eed5ae9f5"
      },
      "source": [
        "s={1,2,3,4,5,(6,7)}\n",
        "s.discard(5)\n",
        "print(s)"
      ],
      "execution_count": null,
      "outputs": [
        {
          "output_type": "stream",
          "text": [
            "{1, 2, 3, 4, (6, 7)}\n"
          ],
          "name": "stdout"
        }
      ]
    },
    {
      "cell_type": "markdown",
      "metadata": {
        "id": "4wFQw3wfcWbv"
      },
      "source": [
        "***intersection() -->***The intersection() method returns a new set with elements that are common to all sets."
      ]
    },
    {
      "cell_type": "code",
      "metadata": {
        "colab": {
          "base_uri": "https://localhost:8080/"
        },
        "id": "53AZF-KYcgen",
        "outputId": "07592fcf-766b-4c7b-9f7c-de36319998c1"
      },
      "source": [
        "s1={10,20,30,40}\n",
        "s2={40,30}\n",
        "print(s1.intersection(s2))"
      ],
      "execution_count": null,
      "outputs": [
        {
          "output_type": "stream",
          "text": [
            "{40, 30}\n"
          ],
          "name": "stdout"
        }
      ]
    },
    {
      "cell_type": "code",
      "metadata": {
        "colab": {
          "base_uri": "https://localhost:8080/"
        },
        "id": "lYYOkn0qctBx",
        "outputId": "d7804acb-d4c7-48b8-8348-e98ab625cc85"
      },
      "source": [
        "s1={10,20,30,40}\n",
        "s2={40,30}\n",
        "s3={20,40}\n",
        "print(s1.intersection(s2,s3))"
      ],
      "execution_count": null,
      "outputs": [
        {
          "output_type": "stream",
          "text": [
            "{40}\n"
          ],
          "name": "stdout"
        }
      ]
    },
    {
      "cell_type": "code",
      "metadata": {
        "colab": {
          "base_uri": "https://localhost:8080/"
        },
        "id": "dIIEvDsIc8qC",
        "outputId": "c44155f0-12a9-4a61-d24c-f810013bb3e8"
      },
      "source": [
        "s1={10,20,30,40}\n",
        "s2={50,60}\n",
        "s3={70,80}\n",
        "print(s1.intersection(s2,s3))   # No common element present so returns empty set."
      ],
      "execution_count": null,
      "outputs": [
        {
          "output_type": "stream",
          "text": [
            "set()\n"
          ],
          "name": "stdout"
        }
      ]
    },
    {
      "cell_type": "code",
      "metadata": {
        "colab": {
          "base_uri": "https://localhost:8080/"
        },
        "id": "w0ogv-9LdGoW",
        "outputId": "6d916142-ca0c-445b-d821-00044193720c"
      },
      "source": [
        "# intersection using '&' operator\n",
        "s1={10,20,30,40}\n",
        "s2={40,30}\n",
        "s3={20,40}\n",
        "print(s1&s2&s3)"
      ],
      "execution_count": null,
      "outputs": [
        {
          "output_type": "stream",
          "text": [
            "{40}\n"
          ],
          "name": "stdout"
        }
      ]
    },
    {
      "cell_type": "markdown",
      "metadata": {
        "id": "dOFPcipodXWd"
      },
      "source": [
        "***intersection_update() -->***The intersection_update() updates the set calling intersection_update() method with the intersection of sets."
      ]
    },
    {
      "cell_type": "code",
      "metadata": {
        "colab": {
          "base_uri": "https://localhost:8080/"
        },
        "id": "9SuiFE-5d7Tw",
        "outputId": "e6d983fa-9776-4b54-ea24-a302f373be1a"
      },
      "source": [
        "s1={10,20,30,40}\n",
        "s2={40,50}\n",
        "print(s1.intersection_update(s2))\n",
        "print(s1)"
      ],
      "execution_count": null,
      "outputs": [
        {
          "output_type": "stream",
          "text": [
            "None\n",
            "{40}\n"
          ],
          "name": "stdout"
        }
      ]
    },
    {
      "cell_type": "code",
      "metadata": {
        "colab": {
          "base_uri": "https://localhost:8080/"
        },
        "id": "J5lLgIBLeLhO",
        "outputId": "30549516-30df-4caa-f17c-77b98222e1da"
      },
      "source": [
        "s1={10,20,30,40}\n",
        "s2={50,60}\n",
        "s3={70,80}\n",
        "print(s1.intersection_update(s2,s3)) \n",
        "print(s1) # nothing is common so empty set was created and then the empty set updated as s1."
      ],
      "execution_count": null,
      "outputs": [
        {
          "output_type": "stream",
          "text": [
            "None\n",
            "set()\n"
          ],
          "name": "stdout"
        }
      ]
    },
    {
      "cell_type": "markdown",
      "metadata": {
        "id": "ZV5JTeCWfRSe"
      },
      "source": [
        "***isdisjoint() -->***The isdisjoint() method returns True if two sets are disjoint sets. If not, it returns False."
      ]
    },
    {
      "cell_type": "code",
      "metadata": {
        "colab": {
          "base_uri": "https://localhost:8080/"
        },
        "id": "SJ81_NRceiLk",
        "outputId": "66d7933c-20d3-424b-e115-e01e3b9d47ae"
      },
      "source": [
        "s1={10,20,30,40}\n",
        "s2={50,40,60}\n",
        "s3={70,80}\n",
        "print(s1.isdisjoint(s2))  # returns false because there is common element which means they are not disjoint.\n",
        "print(s1.isdisjoint(s3))  # returns true because there is no common element which means they are disjoint."
      ],
      "execution_count": null,
      "outputs": [
        {
          "output_type": "stream",
          "text": [
            "False\n",
            "True\n"
          ],
          "name": "stdout"
        }
      ]
    },
    {
      "cell_type": "markdown",
      "metadata": {
        "id": "8WK_JSsjgrtt"
      },
      "source": [
        "***issubset() -->***The issubset() method returns True if all elements of a set are present in another set (passed as an argument). If not, it returns False"
      ]
    },
    {
      "cell_type": "code",
      "metadata": {
        "colab": {
          "base_uri": "https://localhost:8080/"
        },
        "id": "ECqElBPvfoUJ",
        "outputId": "01b9c82a-02f8-48c4-96d5-f87107e4523a"
      },
      "source": [
        "s1={1,2,3,4}\n",
        "s2={1,2,3,4,5}\n",
        "s3={4,5,6}\n",
        "print(s1.issubset(s2)) # returns true because all the elements of s1 is present in s2\n",
        "print(s3.issubset(s2)) # returns false because not all elements of s3 is present in s2"
      ],
      "execution_count": null,
      "outputs": [
        {
          "output_type": "stream",
          "text": [
            "True\n",
            "False\n"
          ],
          "name": "stdout"
        }
      ]
    },
    {
      "cell_type": "markdown",
      "metadata": {
        "id": "X4L3YuHRnXdP"
      },
      "source": [
        "***issuperset() -->***The issuperset() method returns True if a set has every elements of another set (passed as an argument). If not, it returns False."
      ]
    },
    {
      "cell_type": "code",
      "metadata": {
        "colab": {
          "base_uri": "https://localhost:8080/"
        },
        "id": "7SUvqnS_id0P",
        "outputId": "5c9cd755-81fd-4fc9-9ab6-ad635a111c96"
      },
      "source": [
        "s1={1,2,3,4}\n",
        "s2={1,2,3}\n",
        "s3={4,5}\n",
        "print(s1.issuperset(s2)) # returns true because s1 has all the elements which are in s2.\n",
        "print(s2.issuperset(s1)) # returns false because s2 don't have all the elements which are in s1.\n",
        "print(s1.issuperset(s3)) # returns false because s1 don't have all the elements which are in s3."
      ],
      "execution_count": null,
      "outputs": [
        {
          "output_type": "stream",
          "text": [
            "True\n",
            "False\n",
            "False\n"
          ],
          "name": "stdout"
        }
      ]
    },
    {
      "cell_type": "markdown",
      "metadata": {
        "id": "0f9LtT4jsWpN"
      },
      "source": [
        "***pop() -->***The pop() method removes an arbitrary element from the set and returns the element removed."
      ]
    },
    {
      "cell_type": "code",
      "metadata": {
        "colab": {
          "base_uri": "https://localhost:8080/"
        },
        "id": "dGMxGFVJpnSQ",
        "outputId": "903c3bb9-adc1-479a-e7fc-a9673a2a5e86"
      },
      "source": [
        "s={1,2,3,4,5}\n",
        "print(s.pop())\n",
        "print(s)"
      ],
      "execution_count": null,
      "outputs": [
        {
          "output_type": "stream",
          "text": [
            "1\n",
            "{2, 3, 4, 5}\n"
          ],
          "name": "stdout"
        }
      ]
    },
    {
      "cell_type": "markdown",
      "metadata": {
        "id": "W4rQuS-1tObM"
      },
      "source": [
        "***remove() -->***The remove() removes the specified element from the set and updates the set. It doesn't return any value.\n",
        "\n",
        "If the element passed to remove() doesn't exist, KeyError exception is thrown."
      ]
    },
    {
      "cell_type": "code",
      "metadata": {
        "colab": {
          "base_uri": "https://localhost:8080/"
        },
        "id": "vPeA4qDqs3CK",
        "outputId": "9c9327da-eedc-4401-fc00-0bb22afaa217"
      },
      "source": [
        "s={1,2,3,4,5}\n",
        "s.remove(3)\n",
        "print(s)"
      ],
      "execution_count": null,
      "outputs": [
        {
          "output_type": "stream",
          "text": [
            "{1, 2, 4, 5}\n"
          ],
          "name": "stdout"
        }
      ]
    },
    {
      "cell_type": "code",
      "metadata": {
        "colab": {
          "base_uri": "https://localhost:8080/",
          "height": 195
        },
        "id": "ah0cmC9JtdyF",
        "outputId": "376299d8-0233-4c08-9de9-b51406c200c9"
      },
      "source": [
        "s={1,2,3,4,5}\n",
        "s.remove(6)  # return a KeyError because 6 is not present in the set.\n",
        "print(s)"
      ],
      "execution_count": null,
      "outputs": [
        {
          "output_type": "error",
          "ename": "KeyError",
          "evalue": "ignored",
          "traceback": [
            "\u001b[0;31m---------------------------------------------------------------------------\u001b[0m",
            "\u001b[0;31mKeyError\u001b[0m                                  Traceback (most recent call last)",
            "\u001b[0;32m<ipython-input-33-2867d3eca906>\u001b[0m in \u001b[0;36m<module>\u001b[0;34m()\u001b[0m\n\u001b[1;32m      1\u001b[0m \u001b[0ms\u001b[0m\u001b[0;34m=\u001b[0m\u001b[0;34m{\u001b[0m\u001b[0;36m1\u001b[0m\u001b[0;34m,\u001b[0m\u001b[0;36m2\u001b[0m\u001b[0;34m,\u001b[0m\u001b[0;36m3\u001b[0m\u001b[0;34m,\u001b[0m\u001b[0;36m4\u001b[0m\u001b[0;34m,\u001b[0m\u001b[0;36m5\u001b[0m\u001b[0;34m}\u001b[0m\u001b[0;34m\u001b[0m\u001b[0;34m\u001b[0m\u001b[0m\n\u001b[0;32m----> 2\u001b[0;31m \u001b[0ms\u001b[0m\u001b[0;34m.\u001b[0m\u001b[0mremove\u001b[0m\u001b[0;34m(\u001b[0m\u001b[0;36m6\u001b[0m\u001b[0;34m)\u001b[0m\u001b[0;34m\u001b[0m\u001b[0;34m\u001b[0m\u001b[0m\n\u001b[0m\u001b[1;32m      3\u001b[0m \u001b[0mprint\u001b[0m\u001b[0;34m(\u001b[0m\u001b[0ms\u001b[0m\u001b[0;34m)\u001b[0m\u001b[0;34m\u001b[0m\u001b[0;34m\u001b[0m\u001b[0m\n",
            "\u001b[0;31mKeyError\u001b[0m: 6"
          ]
        }
      ]
    },
    {
      "cell_type": "markdown",
      "metadata": {
        "id": "sVE16Xfot5Te"
      },
      "source": [
        "***union() -->***The Python set union() method returns a new set with distinct elements from all the sets."
      ]
    },
    {
      "cell_type": "code",
      "metadata": {
        "colab": {
          "base_uri": "https://localhost:8080/"
        },
        "id": "_I2tiI85tsw0",
        "outputId": "eeb1287e-49cc-4cc6-d3c7-fff6c7d27284"
      },
      "source": [
        "s1={1,2,3,4}\n",
        "s2={3,4,5,6}\n",
        "print(s1.union(s2))"
      ],
      "execution_count": null,
      "outputs": [
        {
          "output_type": "stream",
          "text": [
            "{1, 2, 3, 4, 5, 6}\n"
          ],
          "name": "stdout"
        }
      ]
    },
    {
      "cell_type": "code",
      "metadata": {
        "colab": {
          "base_uri": "https://localhost:8080/"
        },
        "id": "Cn0F5Pj6vJ8K",
        "outputId": "1fedff2f-a1ae-4974-c814-9a7d21733ee6"
      },
      "source": [
        "s1={1,2,3,4}\n",
        "s2={3,4,5,6}\n",
        "s3={4,5,1,7,8}\n",
        "print(s1.union(s2,s3))"
      ],
      "execution_count": null,
      "outputs": [
        {
          "output_type": "stream",
          "text": [
            "{1, 2, 3, 4, 5, 6, 7, 8}\n"
          ],
          "name": "stdout"
        }
      ]
    },
    {
      "cell_type": "code",
      "metadata": {
        "colab": {
          "base_uri": "https://localhost:8080/"
        },
        "id": "L1pl8Y0mvTKs",
        "outputId": "a2b3868b-b1fa-4df6-9e42-68d14891a353"
      },
      "source": [
        "# '|' operator can be used to do  union of sets.\n",
        "s1={1,2,3,4}\n",
        "s2={3,4,5,6}\n",
        "s3={4,5,1,7,8}\n",
        "print(s1|s2)\n",
        "print(s2|s3)\n",
        "print(s1|s3)\n",
        "print(s1|s2|s3)"
      ],
      "execution_count": null,
      "outputs": [
        {
          "output_type": "stream",
          "text": [
            "{1, 2, 3, 4, 5, 6}\n",
            "{1, 3, 4, 5, 6, 7, 8}\n",
            "{1, 2, 3, 4, 5, 7, 8}\n",
            "{1, 2, 3, 4, 5, 6, 7, 8}\n"
          ],
          "name": "stdout"
        }
      ]
    },
    {
      "cell_type": "markdown",
      "metadata": {
        "id": "PEmI8yYpvto5"
      },
      "source": [
        "***update() -->***The Python set update() method updates the set, adding items from other iterables.\n",
        "\n"
      ]
    },
    {
      "cell_type": "code",
      "metadata": {
        "colab": {
          "base_uri": "https://localhost:8080/"
        },
        "id": "gST3c0iovgRc",
        "outputId": "0c86e628-e98e-407b-ec1b-ef76169e3ea2"
      },
      "source": [
        "s1={1,2,3,4}\n",
        "s2={3,4,5,6}\n",
        "s3={4,5,1,7,8}\n",
        "print(s1.update(s2))\n",
        "print(s1)\n",
        "print(s2.update(s3))\n",
        "print(s2)"
      ],
      "execution_count": null,
      "outputs": [
        {
          "output_type": "stream",
          "text": [
            "None\n",
            "{1, 2, 3, 4, 5, 6}\n",
            "None\n",
            "{1, 3, 4, 5, 6, 7, 8}\n"
          ],
          "name": "stdout"
        }
      ]
    }
  ]
}