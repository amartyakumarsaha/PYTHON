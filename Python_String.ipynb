{
  "nbformat": 4,
  "nbformat_minor": 0,
  "metadata": {
    "colab": {
      "name": "Python String.ipynb",
      "provenance": []
    },
    "kernelspec": {
      "name": "python3",
      "display_name": "Python 3"
    },
    "language_info": {
      "name": "python"
    }
  },
  "cells": [
    {
      "cell_type": "markdown",
      "metadata": {
        "id": "YORlYsFg5dEJ"
      },
      "source": [
        "# ***STORING A STRING IN A VARIABLE AND PRINT***\n",
        "\n"
      ]
    },
    {
      "cell_type": "code",
      "metadata": {
        "colab": {
          "base_uri": "https://localhost:8080/"
        },
        "id": "IIARI7YY4eIa",
        "outputId": "bd23f7a1-3c6c-41a0-cb77-59da03afa47d"
      },
      "source": [
        "s= 'Welcome to python string'\n",
        "print(s)"
      ],
      "execution_count": 2,
      "outputs": [
        {
          "output_type": "stream",
          "text": [
            "Welcome to python string\n"
          ],
          "name": "stdout"
        }
      ]
    },
    {
      "cell_type": "code",
      "metadata": {
        "colab": {
          "base_uri": "https://localhost:8080/",
          "height": 128
        },
        "id": "tLrzCYgJ9uKc",
        "outputId": "c3bcda51-be3b-4337-dc4a-559c2c633e6a"
      },
      "source": [
        "s=\"I\"m a python lover\"\n",
        "print(s)"
      ],
      "execution_count": 3,
      "outputs": [
        {
          "output_type": "error",
          "ename": "SyntaxError",
          "evalue": "ignored",
          "traceback": [
            "\u001b[0;36m  File \u001b[0;32m\"<ipython-input-3-f49b4112124b>\"\u001b[0;36m, line \u001b[0;32m1\u001b[0m\n\u001b[0;31m    s=\"I\"m a python lover\"\u001b[0m\n\u001b[0m         ^\u001b[0m\n\u001b[0;31mSyntaxError\u001b[0m\u001b[0;31m:\u001b[0m invalid syntax\n"
          ]
        }
      ]
    },
    {
      "cell_type": "code",
      "metadata": {
        "colab": {
          "base_uri": "https://localhost:8080/"
        },
        "id": "3Meg64Ot-CAE",
        "outputId": "795e35c9-1065-4efa-87b6-0f6341ca6eb4"
      },
      "source": [
        "s=\"I'm a python lover\"\n",
        "print(s)"
      ],
      "execution_count": 4,
      "outputs": [
        {
          "output_type": "stream",
          "text": [
            "I'm a python lover\n"
          ],
          "name": "stdout"
        }
      ]
    },
    {
      "cell_type": "markdown",
      "metadata": {
        "id": "euzpPcnECAnw"
      },
      "source": [
        "# ***USE ''' ''' IF THERE IS A BREAK IN LINES***\n",
        "\n"
      ]
    },
    {
      "cell_type": "code",
      "metadata": {
        "colab": {
          "base_uri": "https://localhost:8080/"
        },
        "id": "VlCce8TjBh10",
        "outputId": "c8e749ba-2cdd-4226-81e7-63f5f858ccb2"
      },
      "source": [
        "s='''I am an Engineer.\n",
        "I love to code in PYTHON.\n",
        "For the last 2 years I have been coding in PYTHON.'''\n",
        "\n",
        "print(s)"
      ],
      "execution_count": 5,
      "outputs": [
        {
          "output_type": "stream",
          "text": [
            "I am an Engineer.\n",
            "I love to code in PYTHON.\n",
            "For the last 2 years I have been coding in PYTHON.\n"
          ],
          "name": "stdout"
        }
      ]
    },
    {
      "cell_type": "markdown",
      "metadata": {
        "id": "vE1Eo7dLDyDi"
      },
      "source": [
        "'*' operator is used to print same thing multiple times."
      ]
    },
    {
      "cell_type": "code",
      "metadata": {
        "colab": {
          "base_uri": "https://localhost:8080/"
        },
        "id": "y_iqErsZCQwx",
        "outputId": "48db0b6a-b833-4005-9a5b-6214b24980a7"
      },
      "source": [
        "s=\"PYTHON\"\n",
        "print(s*3)\n",
        "print(s*6)"
      ],
      "execution_count": 6,
      "outputs": [
        {
          "output_type": "stream",
          "text": [
            "PYTHONPYTHONPYTHON\n",
            "PYTHONPYTHONPYTHONPYTHONPYTHONPYTHON\n"
          ],
          "name": "stdout"
        }
      ]
    },
    {
      "cell_type": "markdown",
      "metadata": {
        "id": "BaYwSkfWEhno"
      },
      "source": [
        "*INDEXING* OF A STRING\n",
        "--> There are two types of Indexing-\n",
        "        1) Forward Indexing.\n",
        "        2) Backward Indexing or Reverse Indexing."
      ]
    },
    {
      "cell_type": "code",
      "metadata": {
        "colab": {
          "base_uri": "https://localhost:8080/"
        },
        "id": "Er3phTxLDtec",
        "outputId": "c7cf4514-dfc2-4898-fd1e-fe17c3e0dd63"
      },
      "source": [
        "s='Google Collab'\n",
        "print(s[0])    # For forward indexing index number starts with 0 from the first.\n",
        "print(s[-1])   # For backward indexing index number starts with -1 from the back."
      ],
      "execution_count": 7,
      "outputs": [
        {
          "output_type": "stream",
          "text": [
            "G\n",
            "b\n"
          ],
          "name": "stdout"
        }
      ]
    },
    {
      "cell_type": "code",
      "metadata": {
        "colab": {
          "base_uri": "https://localhost:8080/"
        },
        "id": "DqcdZ6c9FtDA",
        "outputId": "3fa1ffe8-bab9-4c1b-a643-837a42c9b531"
      },
      "source": [
        "print(s[11]) # Here the 11th index in forward indexing is 'a'.\n",
        "print(s[-2]) # Here the -2th index in backward indexing is 'a'."
      ],
      "execution_count": 8,
      "outputs": [
        {
          "output_type": "stream",
          "text": [
            "a\n",
            "a\n"
          ],
          "name": "stdout"
        }
      ]
    },
    {
      "cell_type": "markdown",
      "metadata": {
        "id": "tCjMOdbiGUmF"
      },
      "source": [
        "# ***STRING*** ***SLICING***"
      ]
    },
    {
      "cell_type": "code",
      "metadata": {
        "colab": {
          "base_uri": "https://localhost:8080/"
        },
        "id": "8PZqO9BwG24p",
        "outputId": "9d248749-0fea-4851-ef03-1fe667207c5c"
      },
      "source": [
        "print(s[:]) # It means the actual string will be printed."
      ],
      "execution_count": 9,
      "outputs": [
        {
          "output_type": "stream",
          "text": [
            "Google Collab\n"
          ],
          "name": "stdout"
        }
      ]
    },
    {
      "cell_type": "code",
      "metadata": {
        "colab": {
          "base_uri": "https://localhost:8080/"
        },
        "id": "gRbzDcJUHDx7",
        "outputId": "29befbc6-291f-4696-8a45-db4f79f4b7c0"
      },
      "source": [
        "print(s[:4]) # It means it will start printing from 0th index and print till (4-1)=3rd index"
      ],
      "execution_count": 10,
      "outputs": [
        {
          "output_type": "stream",
          "text": [
            "Goog\n"
          ],
          "name": "stdout"
        }
      ]
    },
    {
      "cell_type": "code",
      "metadata": {
        "colab": {
          "base_uri": "https://localhost:8080/"
        },
        "id": "M5EEYETLKCQg",
        "outputId": "c2e15b92-1d77-48d4-9906-53c431da5bb5"
      },
      "source": [
        "print(s[1:]) # It means from 1th index to the last index will be printed."
      ],
      "execution_count": 11,
      "outputs": [
        {
          "output_type": "stream",
          "text": [
            "oogle Collab\n"
          ],
          "name": "stdout"
        }
      ]
    },
    {
      "cell_type": "code",
      "metadata": {
        "colab": {
          "base_uri": "https://localhost:8080/"
        },
        "id": "B1qTq4QdLU4c",
        "outputId": "c8059d6b-240c-4e14-9644-cdee005a5bd8"
      },
      "source": [
        "print(s[1:6]) # It means from index 1 to index (6-1)=5 will be printed."
      ],
      "execution_count": 12,
      "outputs": [
        {
          "output_type": "stream",
          "text": [
            "oogle\n"
          ],
          "name": "stdout"
        }
      ]
    },
    {
      "cell_type": "code",
      "metadata": {
        "colab": {
          "base_uri": "https://localhost:8080/"
        },
        "id": "SM_tZW4nMOB4",
        "outputId": "2c07e7f7-3fb4-4e5d-bfc3-2b96967b96d7"
      },
      "source": [
        "print(s[-1:])"
      ],
      "execution_count": 13,
      "outputs": [
        {
          "output_type": "stream",
          "text": [
            "b\n"
          ],
          "name": "stdout"
        }
      ]
    },
    {
      "cell_type": "code",
      "metadata": {
        "colab": {
          "base_uri": "https://localhost:8080/"
        },
        "id": "dp2c0oBqMZKx",
        "outputId": "08b5c5b7-4c8b-4643-90e6-8405839c8f3e"
      },
      "source": [
        "print(s[:-1]) # It means from 0th index to (-1-1)=-2th index will be printed."
      ],
      "execution_count": 14,
      "outputs": [
        {
          "output_type": "stream",
          "text": [
            "Google Colla\n"
          ],
          "name": "stdout"
        }
      ]
    },
    {
      "cell_type": "code",
      "metadata": {
        "colab": {
          "base_uri": "https://localhost:8080/"
        },
        "id": "tgiUEGioNNiB",
        "outputId": "32781d9c-be07-4dd6-c331-e0758a7887aa"
      },
      "source": [
        "print(s[::2]) # It means it will skip (2-1)=1 index and print the charecters."
      ],
      "execution_count": 15,
      "outputs": [
        {
          "output_type": "stream",
          "text": [
            "Gol olb\n"
          ],
          "name": "stdout"
        }
      ]
    },
    {
      "cell_type": "code",
      "metadata": {
        "colab": {
          "base_uri": "https://localhost:8080/"
        },
        "id": "pYO4GKwMNtxn",
        "outputId": "f3c29171-16b1-449e-d2ce-ad2f233912f2"
      },
      "source": [
        "print(s[::3]) # It means it will skip (3-1)=2 index and print the charecters."
      ],
      "execution_count": 16,
      "outputs": [
        {
          "output_type": "stream",
          "text": [
            "Gg lb\n"
          ],
          "name": "stdout"
        }
      ]
    },
    {
      "cell_type": "code",
      "metadata": {
        "colab": {
          "base_uri": "https://localhost:8080/"
        },
        "id": "ykBQ4IjyO0kt",
        "outputId": "28847964-7fe6-4e07-aea4-dbd0ab915424"
      },
      "source": [
        "print(s[1:8:2]) # It will start printing from index 1 to index(8-1)=7 by skipping (2-1)=1"
      ],
      "execution_count": 17,
      "outputs": [
        {
          "output_type": "stream",
          "text": [
            "ogeC\n"
          ],
          "name": "stdout"
        }
      ]
    },
    {
      "cell_type": "markdown",
      "metadata": {
        "id": "8lONQYemQDlX"
      },
      "source": [
        "# ***DIFFERNT STRING METHODS WITH EXAMPLE :-***"
      ]
    },
    {
      "cell_type": "markdown",
      "metadata": {
        "id": "L9JkwCtxQiHi"
      },
      "source": [
        "***capitalize***()\n",
        "--> It capitalizes the first letter of a string."
      ]
    },
    {
      "cell_type": "code",
      "metadata": {
        "colab": {
          "base_uri": "https://localhost:8080/"
        },
        "id": "YPOL6M6eQCGb",
        "outputId": "aa2da5b8-36b5-41bf-95c0-ce2e391f7fce"
      },
      "source": [
        "s='google collab'\n",
        "print(s.capitalize())"
      ],
      "execution_count": 18,
      "outputs": [
        {
          "output_type": "stream",
          "text": [
            "Google collab\n"
          ],
          "name": "stdout"
        }
      ]
    },
    {
      "cell_type": "markdown",
      "metadata": {
        "id": "gxChObiAX_9q"
      },
      "source": [
        "***find()*** --> The find() method returns the lowest index of the substring if it is found in given string. If its is not found then it returns -1."
      ]
    },
    {
      "cell_type": "code",
      "metadata": {
        "colab": {
          "base_uri": "https://localhost:8080/"
        },
        "id": "L1Miq016YM_B",
        "outputId": "3d9a015e-c0f3-4027-fbfe-97a39e9ad854"
      },
      "source": [
        "s='Google Collab'\n",
        "print(s.find('a'))"
      ],
      "execution_count": 19,
      "outputs": [
        {
          "output_type": "stream",
          "text": [
            "11\n"
          ],
          "name": "stdout"
        }
      ]
    },
    {
      "cell_type": "code",
      "metadata": {
        "colab": {
          "base_uri": "https://localhost:8080/"
        },
        "id": "9DjbInGEYnSj",
        "outputId": "0cf02c3f-d142-4dc7-d770-0e2bfd64e038"
      },
      "source": [
        "s='Google Collab'\n",
        "print(s.find('oll'))"
      ],
      "execution_count": 20,
      "outputs": [
        {
          "output_type": "stream",
          "text": [
            "8\n"
          ],
          "name": "stdout"
        }
      ]
    },
    {
      "cell_type": "code",
      "metadata": {
        "colab": {
          "base_uri": "https://localhost:8080/"
        },
        "id": "9a6wQh5pYyPL",
        "outputId": "55500d87-6ddf-4dd2-f9d8-56a0b237482d"
      },
      "source": [
        "s='Google Collab'\n",
        "print(s.find('x'))"
      ],
      "execution_count": 21,
      "outputs": [
        {
          "output_type": "stream",
          "text": [
            "-1\n"
          ],
          "name": "stdout"
        }
      ]
    },
    {
      "cell_type": "code",
      "metadata": {
        "colab": {
          "base_uri": "https://localhost:8080/"
        },
        "id": "T3KIVabIY2lN",
        "outputId": "5fb12506-ae54-4ca9-b716-4480b04e5c99"
      },
      "source": [
        "s='Google Collab'\n",
        "print(s.find('llb'))"
      ],
      "execution_count": 22,
      "outputs": [
        {
          "output_type": "stream",
          "text": [
            "-1\n"
          ],
          "name": "stdout"
        }
      ]
    },
    {
      "cell_type": "code",
      "metadata": {
        "colab": {
          "base_uri": "https://localhost:8080/"
        },
        "id": "p4ezAPo4Y7v5",
        "outputId": "1e33cdb8-6e3c-4a36-a899-c05b4d406444"
      },
      "source": [
        "s='Google Collab'\n",
        "print(s.find('e coll'))"
      ],
      "execution_count": 23,
      "outputs": [
        {
          "output_type": "stream",
          "text": [
            "-1\n"
          ],
          "name": "stdout"
        }
      ]
    },
    {
      "cell_type": "markdown",
      "metadata": {
        "id": "w-qiPRA6dnUM"
      },
      "source": [
        "***index()*** --> It works just like find() but raises an exception if ‘str’ not found."
      ]
    },
    {
      "cell_type": "code",
      "metadata": {
        "colab": {
          "base_uri": "https://localhost:8080/"
        },
        "id": "UNtKCVhHZvyO",
        "outputId": "f35fe474-7dd2-48d5-95ef-23fa6dc6dba6"
      },
      "source": [
        "s='Google Collab'\n",
        "print(s.index('C'))"
      ],
      "execution_count": 24,
      "outputs": [
        {
          "output_type": "stream",
          "text": [
            "7\n"
          ],
          "name": "stdout"
        }
      ]
    },
    {
      "cell_type": "code",
      "metadata": {
        "colab": {
          "base_uri": "https://localhost:8080/"
        },
        "id": "LlmWaaKZd9uu",
        "outputId": "64b4859e-0c24-43d1-cf0b-a9b7f93a2d85"
      },
      "source": [
        "s='Google Collab'\n",
        "print(s.index('g'))"
      ],
      "execution_count": 25,
      "outputs": [
        {
          "output_type": "stream",
          "text": [
            "3\n"
          ],
          "name": "stdout"
        }
      ]
    },
    {
      "cell_type": "code",
      "metadata": {
        "colab": {
          "base_uri": "https://localhost:8080/"
        },
        "id": "9gBKHKWTeDeT",
        "outputId": "a0d8e8fb-9af8-457e-fa76-f23486a5d5cd"
      },
      "source": [
        "s='Google Collab'\n",
        "print(s.index('b'))"
      ],
      "execution_count": 26,
      "outputs": [
        {
          "output_type": "stream",
          "text": [
            "12\n"
          ],
          "name": "stdout"
        }
      ]
    },
    {
      "cell_type": "markdown",
      "metadata": {
        "id": "8mavp6j-eXx_"
      },
      "source": [
        "***isalnum()*** --> It returns true if a string has at least one character and all characters are alphanumeric, and false otherwise."
      ]
    },
    {
      "cell_type": "code",
      "metadata": {
        "colab": {
          "base_uri": "https://localhost:8080/"
        },
        "id": "4BwN1XiXeS0s",
        "outputId": "7b75eb6c-87ab-4a00-cc69-d4f8b9421e9c"
      },
      "source": [
        "s=\"collab2\"\n",
        "print(s.isalnum())"
      ],
      "execution_count": 27,
      "outputs": [
        {
          "output_type": "stream",
          "text": [
            "True\n"
          ],
          "name": "stdout"
        }
      ]
    },
    {
      "cell_type": "code",
      "metadata": {
        "colab": {
          "base_uri": "https://localhost:8080/"
        },
        "id": "URPHyiXilsXp",
        "outputId": "3cba0b55-370b-466c-c70b-bf5986f507e5"
      },
      "source": [
        "s=\"123456a\"\n",
        "print(s.isalnum())"
      ],
      "execution_count": 28,
      "outputs": [
        {
          "output_type": "stream",
          "text": [
            "True\n"
          ],
          "name": "stdout"
        }
      ]
    },
    {
      "cell_type": "code",
      "metadata": {
        "colab": {
          "base_uri": "https://localhost:8080/"
        },
        "id": "vZf1cpFilwHh",
        "outputId": "f749c9c5-2599-4e03-e137-d81f6adfe10e"
      },
      "source": [
        "s=\"123456aAc\"\n",
        "print(s.isalnum())"
      ],
      "execution_count": 29,
      "outputs": [
        {
          "output_type": "stream",
          "text": [
            "True\n"
          ],
          "name": "stdout"
        }
      ]
    },
    {
      "cell_type": "code",
      "metadata": {
        "colab": {
          "base_uri": "https://localhost:8080/"
        },
        "id": "ORAdOQwYmZMm",
        "outputId": "9c95699f-620a-45bd-d1aa-0d1cb4509c91"
      },
      "source": [
        "s=\"Google collab2\"\n",
        "print(s.isalnum())  # although here we have atleast one charecter but still it gave false because here we have space in between in the string."
      ],
      "execution_count": 30,
      "outputs": [
        {
          "output_type": "stream",
          "text": [
            "False\n"
          ],
          "name": "stdout"
        }
      ]
    },
    {
      "cell_type": "markdown",
      "metadata": {
        "id": "XwEvdVAuo6QD"
      },
      "source": [
        "***isalpha()*** --> It returns true if a string has at least one character and all characters are alphabetic, and false otherwise."
      ]
    },
    {
      "cell_type": "code",
      "metadata": {
        "id": "D8n4DU0MnpZe",
        "colab": {
          "base_uri": "https://localhost:8080/"
        },
        "outputId": "8788ab07-65fb-489c-aea8-727b55998fbb"
      },
      "source": [
        "s=\"Google\"\n",
        "print(s.isalpha())"
      ],
      "execution_count": 31,
      "outputs": [
        {
          "output_type": "stream",
          "text": [
            "True\n"
          ],
          "name": "stdout"
        }
      ]
    },
    {
      "cell_type": "code",
      "metadata": {
        "colab": {
          "base_uri": "https://localhost:8080/"
        },
        "id": "jTotHxXpWV8w",
        "outputId": "1568bc6e-c9f2-468d-be3d-6cb8900a737e"
      },
      "source": [
        "s=\"Google2\"      \n",
        "print(s.isalpha())  # Returns False because 2 is not an alphabate"
      ],
      "execution_count": 32,
      "outputs": [
        {
          "output_type": "stream",
          "text": [
            "False\n"
          ],
          "name": "stdout"
        }
      ]
    },
    {
      "cell_type": "code",
      "metadata": {
        "colab": {
          "base_uri": "https://localhost:8080/"
        },
        "id": "XOVL1ArvWm0D",
        "outputId": "8eb9bfdf-dcae-4aa9-f1c8-c954c2ca11d0"
      },
      "source": [
        "s=\"2Google\" \n",
        "print(s.isalpha())"
      ],
      "execution_count": 33,
      "outputs": [
        {
          "output_type": "stream",
          "text": [
            "False\n"
          ],
          "name": "stdout"
        }
      ]
    },
    {
      "cell_type": "code",
      "metadata": {
        "colab": {
          "base_uri": "https://localhost:8080/"
        },
        "id": "SgdqEcHZW5RC",
        "outputId": "24b12795-d32f-4609-eaeb-af17f21a1a77"
      },
      "source": [
        "s=\"Google Collab\"\n",
        "print(s.isalpha())  # Returns False because of the <space> in between two words."
      ],
      "execution_count": 34,
      "outputs": [
        {
          "output_type": "stream",
          "text": [
            "False\n"
          ],
          "name": "stdout"
        }
      ]
    },
    {
      "cell_type": "markdown",
      "metadata": {
        "id": "YXHhtYasX-jI"
      },
      "source": [
        "***isdigit()*** --> It returns true if a string contains only digits, and false otherwise."
      ]
    },
    {
      "cell_type": "code",
      "metadata": {
        "colab": {
          "base_uri": "https://localhost:8080/"
        },
        "id": "B_XO1W4HYJGM",
        "outputId": "6b0671fb-79f0-4c3b-b484-1e43c788fe35"
      },
      "source": [
        "s='1'\n",
        "print(s.isdigit())"
      ],
      "execution_count": 35,
      "outputs": [
        {
          "output_type": "stream",
          "text": [
            "True\n"
          ],
          "name": "stdout"
        }
      ]
    },
    {
      "cell_type": "code",
      "metadata": {
        "colab": {
          "base_uri": "https://localhost:8080/"
        },
        "id": "-F0L28ULYSNO",
        "outputId": "4e53bce2-986c-4d6c-ac9a-de76d76d84fc"
      },
      "source": [
        "s='1234'\n",
        "print(s.isdigit())"
      ],
      "execution_count": 36,
      "outputs": [
        {
          "output_type": "stream",
          "text": [
            "True\n"
          ],
          "name": "stdout"
        }
      ]
    },
    {
      "cell_type": "code",
      "metadata": {
        "colab": {
          "base_uri": "https://localhost:8080/"
        },
        "id": "8r9wuOBAYXpp",
        "outputId": "4bd48782-8dfb-4065-be45-32df6a2d405b"
      },
      "source": [
        "s='12345A'\n",
        "print(s.isdigit()) # Returns False because A is a letter."
      ],
      "execution_count": 37,
      "outputs": [
        {
          "output_type": "stream",
          "text": [
            "False\n"
          ],
          "name": "stdout"
        }
      ]
    },
    {
      "cell_type": "code",
      "metadata": {
        "colab": {
          "base_uri": "https://localhost:8080/"
        },
        "id": "XU7kEkyjYf3_",
        "outputId": "c5adb0d0-5827-4757-bf15-1f433f4251c5"
      },
      "source": [
        "s=\"A12345\"\n",
        "print(s.isdigit())"
      ],
      "execution_count": 38,
      "outputs": [
        {
          "output_type": "stream",
          "text": [
            "False\n"
          ],
          "name": "stdout"
        }
      ]
    },
    {
      "cell_type": "markdown",
      "metadata": {
        "id": "b2dWevuWY92M"
      },
      "source": [
        "***islower()*** --> It returns true if a string has at least one cased character and all other characters are in lowercase, and false otherwise."
      ]
    },
    {
      "cell_type": "code",
      "metadata": {
        "colab": {
          "base_uri": "https://localhost:8080/"
        },
        "id": "nqYdW7OQYook",
        "outputId": "f142886f-3be3-468e-c487-2391b22f2afc"
      },
      "source": [
        "s='GOOGLE'\n",
        "print(s.islower())"
      ],
      "execution_count": 39,
      "outputs": [
        {
          "output_type": "stream",
          "text": [
            "False\n"
          ],
          "name": "stdout"
        }
      ]
    },
    {
      "cell_type": "code",
      "metadata": {
        "colab": {
          "base_uri": "https://localhost:8080/"
        },
        "id": "f2Sm9JkYZTcT",
        "outputId": "faf39c01-6208-40c5-d47c-15d3355cb1be"
      },
      "source": [
        "s='GOOGLe'\n",
        "print(s.islower())"
      ],
      "execution_count": 40,
      "outputs": [
        {
          "output_type": "stream",
          "text": [
            "False\n"
          ],
          "name": "stdout"
        }
      ]
    },
    {
      "cell_type": "code",
      "metadata": {
        "colab": {
          "base_uri": "https://localhost:8080/"
        },
        "id": "iKCx0dMWZZu-",
        "outputId": "ff1e9f87-3054-4fee-c8a1-0b7053c6e1d1"
      },
      "source": [
        "s='Google'\n",
        "print(s.islower())"
      ],
      "execution_count": 41,
      "outputs": [
        {
          "output_type": "stream",
          "text": [
            "False\n"
          ],
          "name": "stdout"
        }
      ]
    },
    {
      "cell_type": "code",
      "metadata": {
        "colab": {
          "base_uri": "https://localhost:8080/"
        },
        "id": "bJKnPo-WZcuK",
        "outputId": "ebd55c97-a535-4ab1-b960-ec8ae34aae6d"
      },
      "source": [
        "s='google'\n",
        "print(s.islower())"
      ],
      "execution_count": 42,
      "outputs": [
        {
          "output_type": "stream",
          "text": [
            "True\n"
          ],
          "name": "stdout"
        }
      ]
    },
    {
      "cell_type": "code",
      "metadata": {
        "colab": {
          "base_uri": "https://localhost:8080/"
        },
        "id": "21Kf7GZ_ZhQi",
        "outputId": "ebd6121d-0dd7-42b4-9a78-6822cc7dcf93"
      },
      "source": [
        "s='googlE'\n",
        "print(s.islower())"
      ],
      "execution_count": 43,
      "outputs": [
        {
          "output_type": "stream",
          "text": [
            "False\n"
          ],
          "name": "stdout"
        }
      ]
    },
    {
      "cell_type": "code",
      "metadata": {
        "colab": {
          "base_uri": "https://localhost:8080/"
        },
        "id": "DLOXuta6ZnQ3",
        "outputId": "91a07cba-4ac2-463b-8e60-8136a96ff59f"
      },
      "source": [
        "s='google collab'\n",
        "print(s.islower())"
      ],
      "execution_count": 44,
      "outputs": [
        {
          "output_type": "stream",
          "text": [
            "True\n"
          ],
          "name": "stdout"
        }
      ]
    },
    {
      "cell_type": "code",
      "metadata": {
        "colab": {
          "base_uri": "https://localhost:8080/"
        },
        "id": "OcsNecmfZyYH",
        "outputId": "6fdf647e-d971-4eff-ee20-7868aeaad9cb"
      },
      "source": [
        "s='google Collab'\n",
        "print(s.islower())"
      ],
      "execution_count": 45,
      "outputs": [
        {
          "output_type": "stream",
          "text": [
            "False\n"
          ],
          "name": "stdout"
        }
      ]
    },
    {
      "cell_type": "markdown",
      "metadata": {
        "id": "G1LLlw5NfjoK"
      },
      "source": [
        "***isupper()*** --> It returns true if a string has at least one cased character and all other characters are in uppercase, and false otherwise."
      ]
    },
    {
      "cell_type": "code",
      "metadata": {
        "colab": {
          "base_uri": "https://localhost:8080/"
        },
        "id": "MExKSj_NfeMh",
        "outputId": "ff559911-6236-4dd0-d4e0-c436ddd1806b"
      },
      "source": [
        "s=\"Google\"\n",
        "print(s.isupper())"
      ],
      "execution_count": 46,
      "outputs": [
        {
          "output_type": "stream",
          "text": [
            "False\n"
          ],
          "name": "stdout"
        }
      ]
    },
    {
      "cell_type": "code",
      "metadata": {
        "colab": {
          "base_uri": "https://localhost:8080/"
        },
        "id": "q9l_8zxkfy77",
        "outputId": "06ce34aa-b0ff-422a-f8b2-0c055007a63f"
      },
      "source": [
        "s=\"Google Collab\"\n",
        "print(s.isupper())"
      ],
      "execution_count": 47,
      "outputs": [
        {
          "output_type": "stream",
          "text": [
            "False\n"
          ],
          "name": "stdout"
        }
      ]
    },
    {
      "cell_type": "code",
      "metadata": {
        "colab": {
          "base_uri": "https://localhost:8080/"
        },
        "id": "40-a6r7Ff5P8",
        "outputId": "6c169dce-4243-4a4c-b339-2a2f41cbe500"
      },
      "source": [
        "s=\"GOOGLE COLLAB\"\n",
        "print(s.isupper())"
      ],
      "execution_count": 48,
      "outputs": [
        {
          "output_type": "stream",
          "text": [
            "True\n"
          ],
          "name": "stdout"
        }
      ]
    },
    {
      "cell_type": "code",
      "metadata": {
        "colab": {
          "base_uri": "https://localhost:8080/"
        },
        "id": "6tGMGWAUf9nM",
        "outputId": "e776031a-2fe1-4224-a6b7-fe929ae8d23b"
      },
      "source": [
        "s=\"GOOGLE\"\n",
        "print(s.isupper())"
      ],
      "execution_count": 49,
      "outputs": [
        {
          "output_type": "stream",
          "text": [
            "True\n"
          ],
          "name": "stdout"
        }
      ]
    },
    {
      "cell_type": "markdown",
      "metadata": {
        "id": "sgmgKKn1gZFk"
      },
      "source": [
        "***len(string)*** --> It returns the length of a string."
      ]
    },
    {
      "cell_type": "code",
      "metadata": {
        "colab": {
          "base_uri": "https://localhost:8080/"
        },
        "id": "p_pBWmDfgDoB",
        "outputId": "45e55b87-2cb9-49a5-ce1d-f6d34e5fea85"
      },
      "source": [
        "s=\"Google\"\n",
        "print(len(s))"
      ],
      "execution_count": 50,
      "outputs": [
        {
          "output_type": "stream",
          "text": [
            "6\n"
          ],
          "name": "stdout"
        }
      ]
    },
    {
      "cell_type": "code",
      "metadata": {
        "colab": {
          "base_uri": "https://localhost:8080/"
        },
        "id": "cfHmpkKtgioh",
        "outputId": "15972522-8039-465a-f038-0ea564d39195"
      },
      "source": [
        "s=\"Google Collab\"\n",
        "print(len(s))"
      ],
      "execution_count": 51,
      "outputs": [
        {
          "output_type": "stream",
          "text": [
            "13\n"
          ],
          "name": "stdout"
        }
      ]
    },
    {
      "cell_type": "code",
      "metadata": {
        "colab": {
          "base_uri": "https://localhost:8080/"
        },
        "id": "O6QrDLpMgnYT",
        "outputId": "532e6b7b-d0ae-4fda-ead3-c96d9a60521d"
      },
      "source": [
        "s=\"Google 12345\"\n",
        "print(len(s))"
      ],
      "execution_count": 52,
      "outputs": [
        {
          "output_type": "stream",
          "text": [
            "12\n"
          ],
          "name": "stdout"
        }
      ]
    },
    {
      "cell_type": "markdown",
      "metadata": {
        "id": "Yi6gIfJDhhgh"
      },
      "source": [
        "***max(string)*** -->  It returns the highest alphabetical character in a string."
      ]
    },
    {
      "cell_type": "code",
      "metadata": {
        "colab": {
          "base_uri": "https://localhost:8080/"
        },
        "id": "bI8jpIN9iCwW",
        "outputId": "9b1f088c-018b-4ff5-e384-3de2cbbeee1b"
      },
      "source": [
        "s='Google'\n",
        "print(max(s)) # It will return the letter who is highest."
      ],
      "execution_count": 53,
      "outputs": [
        {
          "output_type": "stream",
          "text": [
            "o\n"
          ],
          "name": "stdout"
        }
      ]
    },
    {
      "cell_type": "code",
      "metadata": {
        "colab": {
          "base_uri": "https://localhost:8080/"
        },
        "id": "vO-BdPPiiUwU",
        "outputId": "06a907e0-5230-4553-a3de-afedf2642a95"
      },
      "source": [
        "s=\"aA\"\n",
        "print(max(s))"
      ],
      "execution_count": 54,
      "outputs": [
        {
          "output_type": "stream",
          "text": [
            "a\n"
          ],
          "name": "stdout"
        }
      ]
    },
    {
      "cell_type": "code",
      "metadata": {
        "colab": {
          "base_uri": "https://localhost:8080/"
        },
        "id": "0LksjFhzjKVX",
        "outputId": "f8310eb8-8fb0-40d5-b2eb-ab998e4453b9"
      },
      "source": [
        "s=\"Google Collab\"\n",
        "print(max(s))"
      ],
      "execution_count": 55,
      "outputs": [
        {
          "output_type": "stream",
          "text": [
            "o\n"
          ],
          "name": "stdout"
        }
      ]
    },
    {
      "cell_type": "code",
      "metadata": {
        "colab": {
          "base_uri": "https://localhost:8080/"
        },
        "id": "SGXqznKAkCLN",
        "outputId": "d664accf-6c05-4df9-f216-4d13ae976aa8"
      },
      "source": [
        "s=\"aba ABA\"\n",
        "print(max(s))"
      ],
      "execution_count": 56,
      "outputs": [
        {
          "output_type": "stream",
          "text": [
            "b\n"
          ],
          "name": "stdout"
        }
      ]
    },
    {
      "cell_type": "code",
      "metadata": {
        "colab": {
          "base_uri": "https://localhost:8080/"
        },
        "id": "euxYtj_pkMTt",
        "outputId": "a267ccad-0411-42fc-bc55-a0a78b23a33c"
      },
      "source": [
        "s=\"ABC\"\n",
        "print(max(s))"
      ],
      "execution_count": 57,
      "outputs": [
        {
          "output_type": "stream",
          "text": [
            "C\n"
          ],
          "name": "stdout"
        }
      ]
    },
    {
      "cell_type": "markdown",
      "metadata": {
        "id": "67sVsLz0kVXZ"
      },
      "source": [
        "***min(string)*** --> that returns the lowest alphabetical character in a string."
      ]
    },
    {
      "cell_type": "code",
      "metadata": {
        "colab": {
          "base_uri": "https://localhost:8080/"
        },
        "id": "yqlyDYCXlrb8",
        "outputId": "cd567f57-d708-4219-a564-9fc50cd849d4"
      },
      "source": [
        "s='Google'\n",
        "print(min(s)) # It will return the letter who is lowest."
      ],
      "execution_count": 58,
      "outputs": [
        {
          "output_type": "stream",
          "text": [
            "G\n"
          ],
          "name": "stdout"
        }
      ]
    },
    {
      "cell_type": "code",
      "metadata": {
        "colab": {
          "base_uri": "https://localhost:8080/"
        },
        "id": "braRtN35mhkP",
        "outputId": "be79aee5-7c13-45e4-a04e-927857e308da"
      },
      "source": [
        "s=\"aA\"\n",
        "print(min(s))"
      ],
      "execution_count": 59,
      "outputs": [
        {
          "output_type": "stream",
          "text": [
            "A\n"
          ],
          "name": "stdout"
        }
      ]
    },
    {
      "cell_type": "code",
      "metadata": {
        "colab": {
          "base_uri": "https://localhost:8080/"
        },
        "id": "ZlEvxOjenIkm",
        "outputId": "344e6de0-c59f-4401-d0e5-d5537531de90"
      },
      "source": [
        "s=\"abaABA\"\n",
        "print(min(s))"
      ],
      "execution_count": 60,
      "outputs": [
        {
          "output_type": "stream",
          "text": [
            "A\n"
          ],
          "name": "stdout"
        }
      ]
    },
    {
      "cell_type": "markdown",
      "metadata": {
        "id": "Qz_Zq_wtu7i3"
      },
      "source": [
        "***split(str)*** --> It is used to split strings in Python according to the delimiter str (space if not provided any) and returns the list of substrings in Python"
      ]
    },
    {
      "cell_type": "code",
      "metadata": {
        "colab": {
          "base_uri": "https://localhost:8080/"
        },
        "id": "d7sh8N7AvjRN",
        "outputId": "5791fa61-4e33-4795-da90-351c4c849bcb"
      },
      "source": [
        "s=\"Google Collab\"\n",
        "print(s.split())"
      ],
      "execution_count": 61,
      "outputs": [
        {
          "output_type": "stream",
          "text": [
            "['Google', 'Collab']\n"
          ],
          "name": "stdout"
        }
      ]
    },
    {
      "cell_type": "code",
      "metadata": {
        "colab": {
          "base_uri": "https://localhost:8080/"
        },
        "id": "HJZjdZUvw0AZ",
        "outputId": "86dd7bbf-c95e-4976-8cc4-1e42bcd25bfa"
      },
      "source": [
        "s=\"Hello, I am an Engineer\"\n",
        "print(s.split())"
      ],
      "execution_count": 62,
      "outputs": [
        {
          "output_type": "stream",
          "text": [
            "['Hello,', 'I', 'am', 'an', 'Engineer']\n"
          ],
          "name": "stdout"
        }
      ]
    },
    {
      "cell_type": "code",
      "metadata": {
        "colab": {
          "base_uri": "https://localhost:8080/"
        },
        "id": "q8auoQAwxjbn",
        "outputId": "bab7c6c1-5f71-439d-e3ed-17dcd1658a5a"
      },
      "source": [
        "s=\"Hello, I am an Engineer\"\n",
        "print(s.split(','))         # It means when the compiler find , then the split will be done."
      ],
      "execution_count": 63,
      "outputs": [
        {
          "output_type": "stream",
          "text": [
            "['Hello', ' I am an Engineer']\n"
          ],
          "name": "stdout"
        }
      ]
    },
    {
      "cell_type": "code",
      "metadata": {
        "colab": {
          "base_uri": "https://localhost:8080/"
        },
        "id": "hNQYaDwuzEEv",
        "outputId": "684e5386-8dad-4c85-ea83-e45e70524d31"
      },
      "source": [
        "s=\"How#are#you#?\"\n",
        "print(s.split('#'))"
      ],
      "execution_count": 64,
      "outputs": [
        {
          "output_type": "stream",
          "text": [
            "['How', 'are', 'you', '?']\n"
          ],
          "name": "stdout"
        }
      ]
    },
    {
      "cell_type": "markdown",
      "metadata": {
        "id": "PW7okcvkzoEk"
      },
      "source": [
        "***count(str, beg= 0,end=len(string))*** --> It counts how many times ‘str’ occurs in a string or in the substring of a string if the starting index ‘beg’ and the ending index ‘end’ are given."
      ]
    },
    {
      "cell_type": "code",
      "metadata": {
        "colab": {
          "base_uri": "https://localhost:8080/"
        },
        "id": "WHq2vO80zXo7",
        "outputId": "a3d17508-4aab-495b-bff7-2ccd24c33ea9"
      },
      "source": [
        "s=\"aabba\"\n",
        "print(s.count('ab'))"
      ],
      "execution_count": 65,
      "outputs": [
        {
          "output_type": "stream",
          "text": [
            "1\n"
          ],
          "name": "stdout"
        }
      ]
    },
    {
      "cell_type": "code",
      "metadata": {
        "colab": {
          "base_uri": "https://localhost:8080/"
        },
        "id": "5CdOD_WO1JL5",
        "outputId": "0663678f-d66b-4a5d-80d6-8138764ab0d3"
      },
      "source": [
        "s=\"aabbabba\"\n",
        "print(s.count('ab'))"
      ],
      "execution_count": 66,
      "outputs": [
        {
          "output_type": "stream",
          "text": [
            "2\n"
          ],
          "name": "stdout"
        }
      ]
    },
    {
      "cell_type": "code",
      "metadata": {
        "colab": {
          "base_uri": "https://localhost:8080/"
        },
        "id": "Jq_BKFRC1Uus",
        "outputId": "f577fc9c-9d70-4c0d-815a-30611e67cfcc"
      },
      "source": [
        "s=\"aabbabba\"\n",
        "print(s.count('abba'))"
      ],
      "execution_count": 67,
      "outputs": [
        {
          "output_type": "stream",
          "text": [
            "1\n"
          ],
          "name": "stdout"
        }
      ]
    },
    {
      "cell_type": "code",
      "metadata": {
        "colab": {
          "base_uri": "https://localhost:8080/"
        },
        "id": "rr7PWluP8lXq",
        "outputId": "e171a46e-9458-4c4d-fa5b-28212895cb38"
      },
      "source": [
        "s=\"aabbabba\"\n",
        "print(s.count('abb'))"
      ],
      "execution_count": 68,
      "outputs": [
        {
          "output_type": "stream",
          "text": [
            "2\n"
          ],
          "name": "stdout"
        }
      ]
    },
    {
      "cell_type": "code",
      "metadata": {
        "colab": {
          "base_uri": "https://localhost:8080/"
        },
        "id": "xVcb_COH8wDj",
        "outputId": "6995f8c0-c981-4ed4-b7cf-4bc423e6256e"
      },
      "source": [
        "s=\"aabbabba\"\n",
        "print(s.count('abb',2,6)) # It will check if aab is present in between the index 2 to (6-1)=5"
      ],
      "execution_count": 69,
      "outputs": [
        {
          "output_type": "stream",
          "text": [
            "0\n"
          ],
          "name": "stdout"
        }
      ]
    },
    {
      "cell_type": "markdown",
      "metadata": {
        "id": "5uRzfGkV1oAQ"
      },
      "source": [
        "***endswith(suffix, beg=0, end=len(string))*** --> It determines if a string or the substring of a string (if the starting index ‘beg’ and the ending index ‘end’ are given) ends with a suffix; it returns true if so, and false otherwise."
      ]
    },
    {
      "cell_type": "code",
      "metadata": {
        "colab": {
          "base_uri": "https://localhost:8080/"
        },
        "id": "xozUIfnI1l7A",
        "outputId": "a7ab62df-d24d-4423-e0a3-8d4b22047411"
      },
      "source": [
        "s=\"Google Collab\"\n",
        "print(s.endswith('lab'))"
      ],
      "execution_count": 70,
      "outputs": [
        {
          "output_type": "stream",
          "text": [
            "True\n"
          ],
          "name": "stdout"
        }
      ]
    },
    {
      "cell_type": "code",
      "metadata": {
        "colab": {
          "base_uri": "https://localhost:8080/"
        },
        "id": "9eHsEWXo11M9",
        "outputId": "020c7b6a-afb1-437c-9e1c-b38eebc25582"
      },
      "source": [
        "s=\"Google Collab\"\n",
        "print(s.endswith('la'))"
      ],
      "execution_count": 71,
      "outputs": [
        {
          "output_type": "stream",
          "text": [
            "False\n"
          ],
          "name": "stdout"
        }
      ]
    },
    {
      "cell_type": "code",
      "metadata": {
        "colab": {
          "base_uri": "https://localhost:8080/"
        },
        "id": "rLwucLCO15N7",
        "outputId": "b6ef23e2-6eb5-4097-9e9f-d916135a506e"
      },
      "source": [
        "s=\"Google Collab\"\n",
        "print(s.endswith('la',8,12))"
      ],
      "execution_count": 72,
      "outputs": [
        {
          "output_type": "stream",
          "text": [
            "True\n"
          ],
          "name": "stdout"
        }
      ]
    },
    {
      "cell_type": "markdown",
      "metadata": {
        "id": "dny9zAyS9qfg"
      },
      "source": [
        "***encode(encoding=’UTF-8′,errors=’strict’)***--> It returns an encoded string version of a string; on error, the default is to raise a ValueError unless errors are given with ‘ignore’ or ‘replace’."
      ]
    },
    {
      "cell_type": "code",
      "metadata": {
        "id": "xNTZJmW42DPU",
        "colab": {
          "base_uri": "https://localhost:8080/"
        },
        "outputId": "54c0ed95-3888-41d6-f2a6-22c22d08892f"
      },
      "source": [
        "s = \"Google Collåbe\"\n",
        "\n",
        "print(s.encode(encoding=\"ascii\",errors=\"backslashreplace\")) # backslashreplace uses a backslash instead of the character that could not be encoded"
      ],
      "execution_count": 73,
      "outputs": [
        {
          "output_type": "stream",
          "text": [
            "b'Google Coll\\\\xe5be'\n"
          ],
          "name": "stdout"
        }
      ]
    },
    {
      "cell_type": "code",
      "metadata": {
        "colab": {
          "base_uri": "https://localhost:8080/"
        },
        "id": "WMPk7A5H-xaJ",
        "outputId": "14017632-e2dc-4b55-d38c-4192972062b7"
      },
      "source": [
        "s = \"Google Collåbe\"\n",
        "\n",
        "print(s.encode(encoding=\"ascii\",errors=\"namereplace\")) # replaces the character with a text explaining the character"
      ],
      "execution_count": 74,
      "outputs": [
        {
          "output_type": "stream",
          "text": [
            "b'Google Coll\\\\N{LATIN SMALL LETTER A WITH RING ABOVE}be'\n"
          ],
          "name": "stdout"
        }
      ]
    },
    {
      "cell_type": "code",
      "metadata": {
        "colab": {
          "base_uri": "https://localhost:8080/"
        },
        "id": "rZ_PbRiu_KUC",
        "outputId": "e5508c34-74d5-4dcb-b933-8ebe05c02764"
      },
      "source": [
        "s = \"Google Collåbe\"\n",
        "\n",
        "print(s.encode(encoding=\"ascii\",errors=\"ignore\")) # ignores the characters that cannot be encoded"
      ],
      "execution_count": 75,
      "outputs": [
        {
          "output_type": "stream",
          "text": [
            "b'Google Collbe'\n"
          ],
          "name": "stdout"
        }
      ]
    },
    {
      "cell_type": "code",
      "metadata": {
        "colab": {
          "base_uri": "https://localhost:8080/"
        },
        "id": "FuL62daB_cm4",
        "outputId": "59f26544-fdb6-4dd1-d1a4-c4bcf290128b"
      },
      "source": [
        "s = \"Google Collåbe\"\n",
        "\n",
        "print(s.encode(errors=\"strict\")) # Default, raises an error on failure"
      ],
      "execution_count": 76,
      "outputs": [
        {
          "output_type": "stream",
          "text": [
            "b'Google Coll\\xc3\\xa5be'\n"
          ],
          "name": "stdout"
        }
      ]
    },
    {
      "cell_type": "code",
      "metadata": {
        "colab": {
          "base_uri": "https://localhost:8080/"
        },
        "id": "WakVyILZ_-68",
        "outputId": "0a252147-450b-41d6-90d6-1a065962dd43"
      },
      "source": [
        "\n",
        "s = \"Google Collåbe\"\n",
        "\n",
        "print(s.encode(encoding=\"ascii\",errors=\"replace\")) # replaces the character with a questionmark"
      ],
      "execution_count": 77,
      "outputs": [
        {
          "output_type": "stream",
          "text": [
            "b'Google Coll?be'\n"
          ],
          "name": "stdout"
        }
      ]
    },
    {
      "cell_type": "markdown",
      "metadata": {
        "id": "iVD-Kd8yBK3g"
      },
      "source": [
        "***expandtabs(tabsize=8)*** --> The expandtabs() takes an integer tabsize argument. The default tabsize is 8."
      ]
    },
    {
      "cell_type": "code",
      "metadata": {
        "colab": {
          "base_uri": "https://localhost:8080/"
        },
        "id": "_kjAobI_AaJI",
        "outputId": "91b3f4c3-9f03-458c-bde7-78ec2819b4bc"
      },
      "source": [
        "s=\"Google\\tCollab\"\n",
        "print(s.expandtabs())"
      ],
      "execution_count": 78,
      "outputs": [
        {
          "output_type": "stream",
          "text": [
            "Google  Collab\n"
          ],
          "name": "stdout"
        }
      ]
    },
    {
      "cell_type": "code",
      "metadata": {
        "colab": {
          "base_uri": "https://localhost:8080/"
        },
        "id": "NsI-vUh8BnhN",
        "outputId": "69551d1c-b8e7-4d3c-c557-7acd508635c9"
      },
      "source": [
        "\n",
        "s=\"Google\\tCollab\"\n",
        "print(s.expandtabs(5))"
      ],
      "execution_count": 79,
      "outputs": [
        {
          "output_type": "stream",
          "text": [
            "Google    Collab\n"
          ],
          "name": "stdout"
        }
      ]
    },
    {
      "cell_type": "code",
      "metadata": {
        "colab": {
          "base_uri": "https://localhost:8080/"
        },
        "id": "Wqjc6dm9B5qp",
        "outputId": "c6d0ebcf-c559-4b14-9586-e3be8badcd27"
      },
      "source": [
        "s=\"Google\\tCollab\"\n",
        "print(s.expandtabs(4))"
      ],
      "execution_count": 80,
      "outputs": [
        {
          "output_type": "stream",
          "text": [
            "Google  Collab\n"
          ],
          "name": "stdout"
        }
      ]
    },
    {
      "cell_type": "markdown",
      "metadata": {
        "id": "okQdEWfbCIgF"
      },
      "source": [
        "***center(width,fillchar)*** --> It returns a space-padded string with the original string centered to."
      ]
    },
    {
      "cell_type": "code",
      "metadata": {
        "colab": {
          "base_uri": "https://localhost:8080/"
        },
        "id": "ehbcXQTHCBub",
        "outputId": "d845af7c-f239-4cd4-9a36-a825414d68df"
      },
      "source": [
        "s=\"google collab\"\n",
        "print(s.center(20,'*'))"
      ],
      "execution_count": 81,
      "outputs": [
        {
          "output_type": "stream",
          "text": [
            "***google collab****\n"
          ],
          "name": "stdout"
        }
      ]
    },
    {
      "cell_type": "markdown",
      "metadata": {
        "id": "PY3KIOdPdA8e"
      },
      "source": [
        "***format()*** -->"
      ]
    },
    {
      "cell_type": "code",
      "metadata": {
        "colab": {
          "base_uri": "https://localhost:8080/"
        },
        "id": "I3a6BNazdHXF",
        "outputId": "9bc464dc-6e98-47ac-d581-f90adc93957d"
      },
      "source": [
        "print(\"{} Collab\".format(\"Google\"))"
      ],
      "execution_count": 82,
      "outputs": [
        {
          "output_type": "stream",
          "text": [
            "Google Collab\n"
          ],
          "name": "stdout"
        }
      ]
    },
    {
      "cell_type": "code",
      "metadata": {
        "colab": {
          "base_uri": "https://localhost:8080/"
        },
        "id": "ZRefL1YtdZho",
        "outputId": "8de8d6f3-3623-473b-fb0d-936f48aa0493"
      },
      "source": [
        "print(\"Google {}\".format(\"Collab\"))"
      ],
      "execution_count": 83,
      "outputs": [
        {
          "output_type": "stream",
          "text": [
            "Google Collab\n"
          ],
          "name": "stdout"
        }
      ]
    },
    {
      "cell_type": "code",
      "metadata": {
        "colab": {
          "base_uri": "https://localhost:8080/"
        },
        "id": "LVY3wHP1dtCG",
        "outputId": "32f5105b-9e67-47af-befe-64b892826d6c"
      },
      "source": [
        "s=\"{} am a {} {}\"\n",
        "print(s.format(\"I\",\"Python\",\"Programmer\"))"
      ],
      "execution_count": 84,
      "outputs": [
        {
          "output_type": "stream",
          "text": [
            "I am a Python Programmer\n"
          ],
          "name": "stdout"
        }
      ]
    },
    {
      "cell_type": "code",
      "metadata": {
        "colab": {
          "base_uri": "https://localhost:8080/"
        },
        "id": "glR9OFFipYd7",
        "outputId": "b47841f9-8b64-4404-e70d-1f9aa3dbd0fb"
      },
      "source": [
        "print(\"{0} am a {1} {2}\".format(\"I\",\"Python\",\"Programmer\"))"
      ],
      "execution_count": 85,
      "outputs": [
        {
          "output_type": "stream",
          "text": [
            "I am a Python Programmer\n"
          ],
          "name": "stdout"
        }
      ]
    },
    {
      "cell_type": "code",
      "metadata": {
        "colab": {
          "base_uri": "https://localhost:8080/"
        },
        "id": "PVF0KljbqPTx",
        "outputId": "7dfe64ae-913c-4e01-d7d3-6df33a1fb6d7"
      },
      "source": [
        "print(\"{0} to {g} {1} \".format(\"Welcome\",\"Collab\",g=\"Google\"))"
      ],
      "execution_count": 86,
      "outputs": [
        {
          "output_type": "stream",
          "text": [
            "Welcome to Google Collab \n"
          ],
          "name": "stdout"
        }
      ]
    },
    {
      "cell_type": "code",
      "metadata": {
        "colab": {
          "base_uri": "https://localhost:8080/"
        },
        "id": "ySUs6F8SyofX",
        "outputId": "4bb1f146-37de-4273-abe5-adf7b06a6c9e"
      },
      "source": [
        "s=\"{0} am {1:d} years {2}\"\n",
        "print(s.format('I',23,'old'))"
      ],
      "execution_count": 87,
      "outputs": [
        {
          "output_type": "stream",
          "text": [
            "I am 23 years old\n"
          ],
          "name": "stdout"
        }
      ]
    },
    {
      "cell_type": "code",
      "metadata": {
        "colab": {
          "base_uri": "https://localhost:8080/"
        },
        "id": "rvbCr6STKnXn",
        "outputId": "50d0bb52-76ae-4319-c3a3-0c315beaa927"
      },
      "source": [
        "s=\"{0} scored {1:.2f}% in the {2}\"\n",
        "print(s.format('I',85.05,'exam'))"
      ],
      "execution_count": 88,
      "outputs": [
        {
          "output_type": "stream",
          "text": [
            "I scored 85.05% in the exam\n"
          ],
          "name": "stdout"
        }
      ]
    },
    {
      "cell_type": "code",
      "metadata": {
        "colab": {
          "base_uri": "https://localhost:8080/"
        },
        "id": "WruMHUFdTZvC",
        "outputId": "7b289e2d-6df9-43d1-8730-b905a5812e82"
      },
      "source": [
        "s=\"{0} weight is {1:.2f} {2}\"\n",
        "print(s.format('My',71.56,'kilogram'))"
      ],
      "execution_count": 89,
      "outputs": [
        {
          "output_type": "stream",
          "text": [
            "My weight is 71.56 kilogram\n"
          ],
          "name": "stdout"
        }
      ]
    },
    {
      "cell_type": "code",
      "metadata": {
        "colab": {
          "base_uri": "https://localhost:8080/"
        },
        "id": "rtMo6-ybT0Zy",
        "outputId": "9e098679-708e-4e49-e8f3-a942a030a45b"
      },
      "source": [
        "s=\"The {0} of {1} is {2:b}\"\n",
        "print(s.format(\"binary\",\"100\",100))"
      ],
      "execution_count": 90,
      "outputs": [
        {
          "output_type": "stream",
          "text": [
            "The binary of 100 is 1100100\n"
          ],
          "name": "stdout"
        }
      ]
    },
    {
      "cell_type": "code",
      "metadata": {
        "colab": {
          "base_uri": "https://localhost:8080/"
        },
        "id": "BFSSvaRxUYED",
        "outputId": "97ff1713-1d1a-4b63-85a6-6df35b9b2d0c"
      },
      "source": [
        "s=\"The {0} of {1} is {2:o}\"\n",
        "print(s.format(\"octal\",\"100\",100))"
      ],
      "execution_count": 91,
      "outputs": [
        {
          "output_type": "stream",
          "text": [
            "The octal of 100 is 144\n"
          ],
          "name": "stdout"
        }
      ]
    },
    {
      "cell_type": "markdown",
      "metadata": {
        "id": "OjlYjckjWcXf"
      },
      "source": [
        "***upper()***--> upper() method returns the uppercased string from the given string. It converts all lowercase characters to uppercase."
      ]
    },
    {
      "cell_type": "code",
      "metadata": {
        "colab": {
          "base_uri": "https://localhost:8080/"
        },
        "id": "TR0H7onVWsqd",
        "outputId": "281ad21d-6aca-4500-ab30-b7674565f326"
      },
      "source": [
        "s=\"Google Collab\"\n",
        "print(s.upper())"
      ],
      "execution_count": 92,
      "outputs": [
        {
          "output_type": "stream",
          "text": [
            "GOOGLE COLLAB\n"
          ],
          "name": "stdout"
        }
      ]
    },
    {
      "cell_type": "code",
      "metadata": {
        "colab": {
          "base_uri": "https://localhost:8080/"
        },
        "id": "P3CgDKdcW1JA",
        "outputId": "d78f705d-42f9-4939-fb8f-dae5db054cdf"
      },
      "source": [
        "s=\"GoOgLe CoLlAb\"\n",
        "print(s.upper())"
      ],
      "execution_count": 93,
      "outputs": [
        {
          "output_type": "stream",
          "text": [
            "GOOGLE COLLAB\n"
          ],
          "name": "stdout"
        }
      ]
    },
    {
      "cell_type": "code",
      "metadata": {
        "colab": {
          "base_uri": "https://localhost:8080/"
        },
        "id": "1Z7jso6rXE43",
        "outputId": "04252b25-637d-42bd-8a8a-f63ec6ae0a92"
      },
      "source": [
        "s=\"google collab\"\n",
        "print(s.upper())"
      ],
      "execution_count": 94,
      "outputs": [
        {
          "output_type": "stream",
          "text": [
            "GOOGLE COLLAB\n"
          ],
          "name": "stdout"
        }
      ]
    },
    {
      "cell_type": "markdown",
      "metadata": {
        "id": "i33pCy81XKRz"
      },
      "source": [
        "***lower()*** --> The string lower() method converts all uppercase characters in a string into lowercase characters and returns it."
      ]
    },
    {
      "cell_type": "code",
      "metadata": {
        "colab": {
          "base_uri": "https://localhost:8080/"
        },
        "id": "kwlBE-ehXlnc",
        "outputId": "fa88752c-af55-496f-ecb8-b0c5e48cb6fb"
      },
      "source": [
        "s=\"Google Collab\"\n",
        "print(s.lower())"
      ],
      "execution_count": 95,
      "outputs": [
        {
          "output_type": "stream",
          "text": [
            "google collab\n"
          ],
          "name": "stdout"
        }
      ]
    },
    {
      "cell_type": "code",
      "metadata": {
        "colab": {
          "base_uri": "https://localhost:8080/"
        },
        "id": "Jgiw745tXsXh",
        "outputId": "6c00c681-3454-4682-c708-be34ecbcc5ba"
      },
      "source": [
        "s=\"GOOGLE COLLAB\"\n",
        "print(s.lower())"
      ],
      "execution_count": 96,
      "outputs": [
        {
          "output_type": "stream",
          "text": [
            "google collab\n"
          ],
          "name": "stdout"
        }
      ]
    },
    {
      "cell_type": "markdown",
      "metadata": {
        "id": "JLu9OBxkX2jw"
      },
      "source": [
        "***swapcase()*** --> The string swapcase() method converts all uppercase characters to lowercase and all lowercase characters to uppercase characters of the given string, and returns it."
      ]
    },
    {
      "cell_type": "code",
      "metadata": {
        "colab": {
          "base_uri": "https://localhost:8080/"
        },
        "id": "CdiE5JwDYHs_",
        "outputId": "ab311523-ea52-4bd6-c019-814d8b628983"
      },
      "source": [
        "s=\"GoOgLe CoLlAb\"\n",
        "print(s.swapcase())"
      ],
      "execution_count": 97,
      "outputs": [
        {
          "output_type": "stream",
          "text": [
            "gOoGlE cOlLaB\n"
          ],
          "name": "stdout"
        }
      ]
    },
    {
      "cell_type": "code",
      "metadata": {
        "colab": {
          "base_uri": "https://localhost:8080/"
        },
        "id": "zkcQQyHpYNx7",
        "outputId": "5b2609d0-74db-4fc7-9834-0a485cbc0d59"
      },
      "source": [
        "\n",
        "s=\"i Am An EngIneeR\"\n",
        "print(s.swapcase())"
      ],
      "execution_count": 98,
      "outputs": [
        {
          "output_type": "stream",
          "text": [
            "I aM aN eNGiNEEr\n"
          ],
          "name": "stdout"
        }
      ]
    },
    {
      "cell_type": "markdown",
      "metadata": {
        "id": "BPKck73saEpE"
      },
      "source": [
        "***strip()*** --> The strip() method returns a copy of the string by removing both the leading and the trailing characters (based on the string argument passed)."
      ]
    },
    {
      "cell_type": "code",
      "metadata": {
        "colab": {
          "base_uri": "https://localhost:8080/"
        },
        "id": "gH9oFopNYZDX",
        "outputId": "5ad83fc6-4457-46ce-e075-f573cfe806ce"
      },
      "source": [
        "s=\"aaabbbaaa\"\n",
        "print(s.strip()) # The method returned same as the original string because I did not pass any argument that which charecter we want to remove."
      ],
      "execution_count": 99,
      "outputs": [
        {
          "output_type": "stream",
          "text": [
            "aaabbbaaa\n"
          ],
          "name": "stdout"
        }
      ]
    },
    {
      "cell_type": "code",
      "metadata": {
        "colab": {
          "base_uri": "https://localhost:8080/"
        },
        "id": "fJQypDyVaf14",
        "outputId": "840de5ed-3d25-4cc3-fee8-a1c7ae00ea8e"
      },
      "source": [
        "s=\"aaabbbaaa\"\n",
        "print(s.strip('a')) # removed all a and return the string."
      ],
      "execution_count": 100,
      "outputs": [
        {
          "output_type": "stream",
          "text": [
            "bbb\n"
          ],
          "name": "stdout"
        }
      ]
    },
    {
      "cell_type": "code",
      "metadata": {
        "colab": {
          "base_uri": "https://localhost:8080/"
        },
        "id": "pp0RHgK7a1rX",
        "outputId": "39fe19a2-576b-4bc9-aebc-8ca6a9983186"
      },
      "source": [
        "s=\"////\\\\\\\\Google//\\\\Collab/////\\\\\\\\\"\n",
        "print(s.strip(\"\\/\"))   # The method doesn't remove from the middle of any string."
      ],
      "execution_count": 101,
      "outputs": [
        {
          "output_type": "stream",
          "text": [
            "Google//\\Collab\n"
          ],
          "name": "stdout"
        }
      ]
    },
    {
      "cell_type": "markdown",
      "metadata": {
        "id": "iqXSq9jOb01M"
      },
      "source": [
        "***lstrip()*** --> The lstrip() method returns a copy of the string with leading characters removed (based on the string argument passed)."
      ]
    },
    {
      "cell_type": "code",
      "metadata": {
        "colab": {
          "base_uri": "https://localhost:8080/"
        },
        "id": "L9KR401Yb9Mv",
        "outputId": "92dbeb17-b0c8-4ce3-d762-69756ec36b1e"
      },
      "source": [
        "s=\"aaabbbaaa\"\n",
        "print(s.lstrip()) # The method returned same as the original string because I did not pass any argument that which charecter we want to remove."
      ],
      "execution_count": 102,
      "outputs": [
        {
          "output_type": "stream",
          "text": [
            "aaabbbaaa\n"
          ],
          "name": "stdout"
        }
      ]
    },
    {
      "cell_type": "code",
      "metadata": {
        "colab": {
          "base_uri": "https://localhost:8080/"
        },
        "id": "hNF7xD8xcFk1",
        "outputId": "b06a34fd-0e66-408a-ade5-aa9761a6d506"
      },
      "source": [
        "s=\"aaabbbaaa\"\n",
        "print(s.lstrip('a')) # removed all a from left and return the string."
      ],
      "execution_count": 103,
      "outputs": [
        {
          "output_type": "stream",
          "text": [
            "bbbaaa\n"
          ],
          "name": "stdout"
        }
      ]
    },
    {
      "cell_type": "code",
      "metadata": {
        "colab": {
          "base_uri": "https://localhost:8080/"
        },
        "id": "rekpgdTTcU_n",
        "outputId": "3eba9115-b4b6-41bf-c60b-e5df0363977a"
      },
      "source": [
        "s=\"////\\\\\\\\Google//\\\\Collab/////\\\\\\\\\"\n",
        "print(s.lstrip(\"\\/\"))   # The method doesn't remove from the middle and right of any string."
      ],
      "execution_count": 104,
      "outputs": [
        {
          "output_type": "stream",
          "text": [
            "Google//\\Collab/////\\\\\n"
          ],
          "name": "stdout"
        }
      ]
    },
    {
      "cell_type": "markdown",
      "metadata": {
        "id": "HV5o65ZbcdaE"
      },
      "source": [
        "***rstrip()*** --> The rstrip() method returns a copy of the string with trailing characters removed (based on the string argument passed)."
      ]
    },
    {
      "cell_type": "code",
      "metadata": {
        "colab": {
          "base_uri": "https://localhost:8080/"
        },
        "id": "NnGaFo1wckA9",
        "outputId": "4de23f10-c6c0-4c82-a910-cce1981864c5"
      },
      "source": [
        "s=\"aaabbbaaa\"\n",
        "print(s.rstrip()) # The method returned same as the original string because I did not pass any argument that which charecter we want to remove."
      ],
      "execution_count": 105,
      "outputs": [
        {
          "output_type": "stream",
          "text": [
            "aaabbbaaa\n"
          ],
          "name": "stdout"
        }
      ]
    },
    {
      "cell_type": "code",
      "metadata": {
        "colab": {
          "base_uri": "https://localhost:8080/"
        },
        "id": "xgbNFVuOcoBk",
        "outputId": "fd74186e-9986-4d70-caba-5063e252d330"
      },
      "source": [
        "s=\"aaabbbaaa\"\n",
        "print(s.rstrip('a')) # removed all a from right and return the string."
      ],
      "execution_count": 106,
      "outputs": [
        {
          "output_type": "stream",
          "text": [
            "aaabbb\n"
          ],
          "name": "stdout"
        }
      ]
    },
    {
      "cell_type": "code",
      "metadata": {
        "colab": {
          "base_uri": "https://localhost:8080/"
        },
        "id": "pCwKDiOHcu-Y",
        "outputId": "d0cbca36-c1cd-4856-807c-8cd6c1e686c5"
      },
      "source": [
        "s=\"////\\\\\\\\Google//\\\\Collab/////\\\\\\\\\"\n",
        "print(s.rstrip(\"\\/\"))   # The method doesn't remove from the middle and left of any string."
      ],
      "execution_count": 107,
      "outputs": [
        {
          "output_type": "stream",
          "text": [
            "////\\\\Google//\\Collab\n"
          ],
          "name": "stdout"
        }
      ]
    },
    {
      "cell_type": "markdown",
      "metadata": {
        "id": "erW7uu2YPab8"
      },
      "source": [
        "***replace()*** --> The replace() method returns a copy of the string where all occurrences of a substring is replaced with another substring."
      ]
    },
    {
      "cell_type": "code",
      "metadata": {
        "colab": {
          "base_uri": "https://localhost:8080/"
        },
        "id": "TAsmYiQBPbSU",
        "outputId": "34f56678-e8ba-497e-8c33-00e068bc8fb7"
      },
      "source": [
        "s=\"I Love To Code In Python.\"\n",
        "print(s.replace('Love','Like'))"
      ],
      "execution_count": 108,
      "outputs": [
        {
          "output_type": "stream",
          "text": [
            "I Like To Code In Python.\n"
          ],
          "name": "stdout"
        }
      ]
    },
    {
      "cell_type": "code",
      "metadata": {
        "colab": {
          "base_uri": "https://localhost:8080/"
        },
        "id": "-_9SO618PqAr",
        "outputId": "78de4fa1-5ace-4d76-a2cf-a3ef1b052c06"
      },
      "source": [
        "s=\"Hello World\"\n",
        "print(s.replace('Hello','Hi'))"
      ],
      "execution_count": 109,
      "outputs": [
        {
          "output_type": "stream",
          "text": [
            "Hi World\n"
          ],
          "name": "stdout"
        }
      ]
    },
    {
      "cell_type": "markdown",
      "metadata": {
        "id": "eMDAFix5QJkn"
      },
      "source": [
        "***title()*** -->The title() method returns a string with first letter of each word capitalized; a title cased string."
      ]
    },
    {
      "cell_type": "code",
      "metadata": {
        "colab": {
          "base_uri": "https://localhost:8080/"
        },
        "id": "mN8Bo7J1QXYu",
        "outputId": "2d67a4eb-9f14-474e-8f01-c13c64aa17d9"
      },
      "source": [
        "s=\"i love to code in python.\"\n",
        "print(s.title())"
      ],
      "execution_count": 110,
      "outputs": [
        {
          "output_type": "stream",
          "text": [
            "I Love To Code In Python.\n"
          ],
          "name": "stdout"
        }
      ]
    },
    {
      "cell_type": "code",
      "metadata": {
        "colab": {
          "base_uri": "https://localhost:8080/"
        },
        "id": "JqJB5RanQeV-",
        "outputId": "7bc606c4-e4e6-487e-bd0c-0b25a40f3039"
      },
      "source": [
        "s=\"i Love to Code in Python.\"\n",
        "print(s.title())"
      ],
      "execution_count": 111,
      "outputs": [
        {
          "output_type": "stream",
          "text": [
            "I Love To Code In Python.\n"
          ],
          "name": "stdout"
        }
      ]
    }
  ]
}