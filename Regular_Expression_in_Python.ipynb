{
  "nbformat": 4,
  "nbformat_minor": 0,
  "metadata": {
    "colab": {
      "name": "Regular Expression in Python.ipynb",
      "provenance": [],
      "collapsed_sections": []
    },
    "kernelspec": {
      "name": "python3",
      "display_name": "Python 3"
    },
    "language_info": {
      "name": "python"
    }
  },
  "cells": [
    {
      "cell_type": "code",
      "execution_count": 1,
      "metadata": {
        "id": "hc0e2L5qgIUh"
      },
      "outputs": [],
      "source": [
        "import re"
      ]
    },
    {
      "cell_type": "code",
      "source": [
        "input=\"I am a coding lover\""
      ],
      "metadata": {
        "id": "9w-J5hx2oiOz"
      },
      "execution_count": 2,
      "outputs": []
    },
    {
      "cell_type": "markdown",
      "source": [
        "***CASE - I***"
      ],
      "metadata": {
        "id": "uAhsUGMUDsrJ"
      }
    },
    {
      "cell_type": "code",
      "source": [
        "if(re.search(r\"coding\",input)):                  ## r means raw string.\n",
        "  print(\"Pattern found\")\n",
        "else:\n",
        "  print(\"Pattern not found\")"
      ],
      "metadata": {
        "colab": {
          "base_uri": "https://localhost:8080/"
        },
        "id": "eUc9fu6yot9a",
        "outputId": "dfc87279-489f-47e0-d54c-da156ed94ad9"
      },
      "execution_count": 7,
      "outputs": [
        {
          "output_type": "stream",
          "name": "stdout",
          "text": [
            "Pattern found\n"
          ]
        }
      ]
    },
    {
      "cell_type": "code",
      "source": [
        "if(re.search(r\"Coding\",input)):                  ## r means raw string.\n",
        "  print(\"Pattern found\")\n",
        "else:\n",
        "  print(\"Pattern not found\")"
      ],
      "metadata": {
        "colab": {
          "base_uri": "https://localhost:8080/"
        },
        "id": "lLtqSEa4pGzo",
        "outputId": "8eaea58c-8baa-4322-e4e1-8deac7b98c9c"
      },
      "execution_count": 6,
      "outputs": [
        {
          "output_type": "stream",
          "name": "stdout",
          "text": [
            "Pattern not found\n"
          ]
        }
      ]
    },
    {
      "cell_type": "markdown",
      "source": [
        "***CASE - II***\n",
        "\n",
        "'.' represents single charecter."
      ],
      "metadata": {
        "id": "SrSPn9E7rbLn"
      }
    },
    {
      "cell_type": "code",
      "source": [
        "if(re.search(r\"py..on\",\"python\")):\n",
        "  print(\"Pattern found\")\n",
        "else:\n",
        "  print(\"Pattern not found\")"
      ],
      "metadata": {
        "colab": {
          "base_uri": "https://localhost:8080/"
        },
        "id": "lG45wITprz9m",
        "outputId": "10a5e31f-3619-47c4-8b29-90461b851a75"
      },
      "execution_count": 8,
      "outputs": [
        {
          "output_type": "stream",
          "name": "stdout",
          "text": [
            "Pattern found\n"
          ]
        }
      ]
    },
    {
      "cell_type": "code",
      "source": [
        "if(re.search(r\"py..on\",\"pytthon\")):\n",
        "  print(\"Pattern found\")\n",
        "else:\n",
        "  print(\"Pattern not found\")"
      ],
      "metadata": {
        "colab": {
          "base_uri": "https://localhost:8080/"
        },
        "id": "ADsqM-03scgJ",
        "outputId": "e5184552-1a1d-4742-fdfe-bc3935eb553f"
      },
      "execution_count": 9,
      "outputs": [
        {
          "output_type": "stream",
          "name": "stdout",
          "text": [
            "Pattern not found\n"
          ]
        }
      ]
    },
    {
      "cell_type": "code",
      "source": [
        "if(re.search(r\"py..on\",\"pthon\")):\n",
        "  print(\"Pattern found\")\n",
        "else:\n",
        "  print(\"Pattern not found\")"
      ],
      "metadata": {
        "colab": {
          "base_uri": "https://localhost:8080/"
        },
        "id": "TT-BZW6XsjJ6",
        "outputId": "ad3a4585-090d-4c42-a4ea-38181ba07f68"
      },
      "execution_count": 10,
      "outputs": [
        {
          "output_type": "stream",
          "name": "stdout",
          "text": [
            "Pattern not found\n"
          ]
        }
      ]
    },
    {
      "cell_type": "markdown",
      "source": [
        "***CASE - III***\n",
        "\n",
        "'[]' represents list of charecter or dighits.\n",
        "\n",
        "'-' means range."
      ],
      "metadata": {
        "id": "lpiQm1NauAL8"
      }
    },
    {
      "cell_type": "code",
      "source": [
        "if(re.search(r'Python[1-3]','Python3')):\n",
        "  print(\"Pattern found\")\n",
        "else:\n",
        "  print(\"Pattern not found\")"
      ],
      "metadata": {
        "colab": {
          "base_uri": "https://localhost:8080/"
        },
        "id": "HHRkQ382snUt",
        "outputId": "25a19371-746f-429a-efcc-08dd457fe082"
      },
      "execution_count": 11,
      "outputs": [
        {
          "output_type": "stream",
          "name": "stdout",
          "text": [
            "Pattern found\n"
          ]
        }
      ]
    },
    {
      "cell_type": "code",
      "source": [
        "if(re.search(r'Python[1-3]','Python4')):\n",
        "  print(\"Pattern found\")\n",
        "else:\n",
        "  print(\"Pattern not found\")"
      ],
      "metadata": {
        "colab": {
          "base_uri": "https://localhost:8080/"
        },
        "id": "79HhTdLjztn9",
        "outputId": "bb21428e-1612-4d8e-c2f1-37d1768ca6bc"
      },
      "execution_count": 12,
      "outputs": [
        {
          "output_type": "stream",
          "name": "stdout",
          "text": [
            "Pattern not found\n"
          ]
        }
      ]
    },
    {
      "cell_type": "code",
      "source": [
        "if(re.search(r'P[x-z]thon[1-3]','Python3')):\n",
        "  print(\"Pattern found\")\n",
        "else:\n",
        "  print(\"Pattern not found\")"
      ],
      "metadata": {
        "colab": {
          "base_uri": "https://localhost:8080/"
        },
        "id": "TVOkzF8Iz3TF",
        "outputId": "ae297e30-f5a0-436f-eb55-aca238766515"
      },
      "execution_count": 14,
      "outputs": [
        {
          "output_type": "stream",
          "name": "stdout",
          "text": [
            "Pattern found\n"
          ]
        }
      ]
    },
    {
      "cell_type": "code",
      "source": [
        "if(re.search(r'P[X-Z]thon[1-3]','Python3')):\n",
        "  print(\"Pattern found\")\n",
        "else:\n",
        "  print(\"Pattern not found\")"
      ],
      "metadata": {
        "colab": {
          "base_uri": "https://localhost:8080/"
        },
        "id": "Eze5exUq0APi",
        "outputId": "c39874e6-c750-48e2-aa7f-3b5dce688815"
      },
      "execution_count": 15,
      "outputs": [
        {
          "output_type": "stream",
          "name": "stdout",
          "text": [
            "Pattern not found\n"
          ]
        }
      ]
    },
    {
      "cell_type": "code",
      "source": [
        "if(re.search(r'P[x-z]..on[1-3]','Python3')):\n",
        "  print(\"Pattern found\")\n",
        "else:\n",
        "  print(\"Pattern not found\")"
      ],
      "metadata": {
        "colab": {
          "base_uri": "https://localhost:8080/"
        },
        "id": "StbyMeeF0J3r",
        "outputId": "9100d494-7f7b-47d2-f7c9-0cfd54e65511"
      },
      "execution_count": 17,
      "outputs": [
        {
          "output_type": "stream",
          "name": "stdout",
          "text": [
            "Pattern found\n"
          ]
        }
      ]
    },
    {
      "cell_type": "code",
      "source": [
        "if(re.search(r'P[x-z].on[1-3]','Python3')):\n",
        "  print(\"Pattern found\")\n",
        "else:\n",
        "  print(\"Pattern not found\")"
      ],
      "metadata": {
        "colab": {
          "base_uri": "https://localhost:8080/"
        },
        "id": "m_sLaroG0aLx",
        "outputId": "ee8dfb35-cfb7-4a15-92ca-18740d4ff8d7"
      },
      "execution_count": 18,
      "outputs": [
        {
          "output_type": "stream",
          "name": "stdout",
          "text": [
            "Pattern not found\n"
          ]
        }
      ]
    },
    {
      "cell_type": "markdown",
      "source": [
        "***case - IV***\n",
        "\n",
        "'\\d' represents any single digit."
      ],
      "metadata": {
        "id": "wyT1zR5L0c2o"
      }
    },
    {
      "cell_type": "code",
      "source": [
        "if(re.search(r'Python\\d','Python3')):\n",
        "  print(\"Pattern found\")\n",
        "else:\n",
        "  print(\"Pattern not found\")"
      ],
      "metadata": {
        "colab": {
          "base_uri": "https://localhost:8080/"
        },
        "id": "Iidlas9I0u_y",
        "outputId": "a04a2f3c-6c52-477d-900a-cf021fa5f9a2"
      },
      "execution_count": 22,
      "outputs": [
        {
          "output_type": "stream",
          "name": "stdout",
          "text": [
            "Pattern found\n"
          ]
        }
      ]
    },
    {
      "cell_type": "markdown",
      "source": [
        "***CASE - V***\n",
        "\n",
        "'|' represents OR"
      ],
      "metadata": {
        "id": "00f70CsF2afl"
      }
    },
    {
      "cell_type": "code",
      "source": [
        "if(re.search(r'Jython|Python3','Python3')):\n",
        "  print(\"Pattern found\")\n",
        "else:\n",
        "  print(\"Pattern not found\")"
      ],
      "metadata": {
        "colab": {
          "base_uri": "https://localhost:8080/"
        },
        "id": "5NN5lVv82tV4",
        "outputId": "36c94a0e-cea9-46f4-b64e-2e0d111ba478"
      },
      "execution_count": 23,
      "outputs": [
        {
          "output_type": "stream",
          "name": "stdout",
          "text": [
            "Pattern found\n"
          ]
        }
      ]
    },
    {
      "cell_type": "code",
      "source": [
        "if(re.search(r'Java|Python3','Python3')):\n",
        "  print(\"Pattern found\")\n",
        "else:\n",
        "  print(\"Pattern not found\")"
      ],
      "metadata": {
        "colab": {
          "base_uri": "https://localhost:8080/"
        },
        "id": "938WgMdF21yR",
        "outputId": "f576d3e1-9b4a-4243-8c9d-e349d776d946"
      },
      "execution_count": 24,
      "outputs": [
        {
          "output_type": "stream",
          "name": "stdout",
          "text": [
            "Pattern found\n"
          ]
        }
      ]
    },
    {
      "cell_type": "code",
      "source": [
        "if(re.search(r'Java|C#','Python3')):\n",
        "  print(\"Pattern found\")\n",
        "else:\n",
        "  print(\"Pattern not found\")"
      ],
      "metadata": {
        "colab": {
          "base_uri": "https://localhost:8080/"
        },
        "id": "JSCdtF7x24xI",
        "outputId": "56459d9b-22d3-454a-8b4f-b2e4b4b2ced2"
      },
      "execution_count": 26,
      "outputs": [
        {
          "output_type": "stream",
          "name": "stdout",
          "text": [
            "Pattern not found\n"
          ]
        }
      ]
    },
    {
      "cell_type": "markdown",
      "source": [
        "***CASE - VI***\n",
        "\n",
        "'\\s' represents SPACE "
      ],
      "metadata": {
        "id": "C3Up5jtD3GRc"
      }
    },
    {
      "cell_type": "code",
      "source": [
        "if(re.search(r\"Python\\s3\",\"Python 3\")):\n",
        "  print(\"Pattern found\")\n",
        "else:\n",
        "  print(\"Pattern not found\")"
      ],
      "metadata": {
        "colab": {
          "base_uri": "https://localhost:8080/"
        },
        "id": "PkiXskg5247K",
        "outputId": "9d28c372-8e89-4af5-f43f-1d16de59fa45"
      },
      "execution_count": 27,
      "outputs": [
        {
          "output_type": "stream",
          "name": "stdout",
          "text": [
            "Pattern found\n"
          ]
        }
      ]
    },
    {
      "cell_type": "code",
      "source": [
        "if(re.search(r\"Python\\s3\",\"Python  3\")):\n",
        "  print(\"Pattern found\")\n",
        "else:\n",
        "  print(\"Pattern not found\")"
      ],
      "metadata": {
        "colab": {
          "base_uri": "https://localhost:8080/"
        },
        "id": "gKYk-WVe38aE",
        "outputId": "10f98f65-ea7b-4607-dae3-0c659dd1fbb0"
      },
      "execution_count": 28,
      "outputs": [
        {
          "output_type": "stream",
          "name": "stdout",
          "text": [
            "Pattern not found\n"
          ]
        }
      ]
    },
    {
      "cell_type": "code",
      "source": [
        "if(re.search(r\"Python\\s3\",\"Py thon 3\")):\n",
        "  print(\"Pattern found\")\n",
        "else:\n",
        "  print(\"Pattern not found\")"
      ],
      "metadata": {
        "colab": {
          "base_uri": "https://localhost:8080/"
        },
        "id": "rk4hDRHb4JHp",
        "outputId": "c846c11c-8549-4fcc-88e4-afa733634a64"
      },
      "execution_count": 29,
      "outputs": [
        {
          "output_type": "stream",
          "name": "stdout",
          "text": [
            "Pattern not found\n"
          ]
        }
      ]
    },
    {
      "cell_type": "code",
      "source": [
        "if(re.search(r\"Py\\sthon\\s3\",\"Py thon 3\")):\n",
        "  print(\"Pattern found\")\n",
        "else:\n",
        "  print(\"Pattern not found\")"
      ],
      "metadata": {
        "colab": {
          "base_uri": "https://localhost:8080/"
        },
        "id": "F844jVfP4Ndy",
        "outputId": "aa4a03bf-6907-4b77-91c2-a4cd430c6a59"
      },
      "execution_count": 30,
      "outputs": [
        {
          "output_type": "stream",
          "name": "stdout",
          "text": [
            "Pattern found\n"
          ]
        }
      ]
    },
    {
      "cell_type": "markdown",
      "source": [
        "***CASE - VII***\n",
        "\n",
        "'*' means 0 or more occurence. The charecter or digit before * have to present 0 or more times."
      ],
      "metadata": {
        "id": "OC-ByqRi41_J"
      }
    },
    {
      "cell_type": "code",
      "source": [
        "if(re.search(r\"Python\\d*\",\"Python3333\")):\n",
        "  print(\"Pattern found\")\n",
        "else:\n",
        "  print(\"Pattern not found\")"
      ],
      "metadata": {
        "colab": {
          "base_uri": "https://localhost:8080/"
        },
        "id": "55aQh3p_5RGd",
        "outputId": "111342cb-15b1-4e1d-9a1b-bbb84e2c21d2"
      },
      "execution_count": 32,
      "outputs": [
        {
          "output_type": "stream",
          "name": "stdout",
          "text": [
            "Pattern found\n"
          ]
        }
      ]
    },
    {
      "cell_type": "code",
      "source": [
        "if(re.search(r\"Python\\d*\",\"Python\")):\n",
        "  print(\"Pattern found\")\n",
        "else:\n",
        "  print(\"Pattern not found\")"
      ],
      "metadata": {
        "colab": {
          "base_uri": "https://localhost:8080/"
        },
        "id": "coM6jW8N6oiz",
        "outputId": "f8bfc6b6-50f1-4458-c2e1-1a9ff21761ae"
      },
      "execution_count": 33,
      "outputs": [
        {
          "output_type": "stream",
          "name": "stdout",
          "text": [
            "Pattern found\n"
          ]
        }
      ]
    },
    {
      "cell_type": "code",
      "source": [
        "if(re.search(r\"Python*3\",\"Pythonnn3\")):\n",
        "  print(\"Pattern found\")\n",
        "else:\n",
        "  print(\"Pattern not found\")"
      ],
      "metadata": {
        "colab": {
          "base_uri": "https://localhost:8080/"
        },
        "id": "6HqNMNSW6wEZ",
        "outputId": "ff4628b9-6905-4046-a950-92f8749fc2e8"
      },
      "execution_count": 34,
      "outputs": [
        {
          "output_type": "stream",
          "name": "stdout",
          "text": [
            "Pattern found\n"
          ]
        }
      ]
    },
    {
      "cell_type": "code",
      "source": [
        "if(re.search(r\"Python*3\",\"Pytho3\")):\n",
        "  print(\"Pattern found\")\n",
        "else:\n",
        "  print(\"Pattern not found\")"
      ],
      "metadata": {
        "colab": {
          "base_uri": "https://localhost:8080/"
        },
        "id": "HNoEBYwE63lI",
        "outputId": "d2d40875-40d2-4873-f0f7-254c743ff14b"
      },
      "execution_count": 35,
      "outputs": [
        {
          "output_type": "stream",
          "name": "stdout",
          "text": [
            "Pattern found\n"
          ]
        }
      ]
    },
    {
      "cell_type": "markdown",
      "source": [
        "***CASE - VIII***\n",
        "\n",
        "'+' means 1 or more occurence. The charecter or digit before * have to present 1 or more times."
      ],
      "metadata": {
        "id": "sGHHgqDv7EIo"
      }
    },
    {
      "cell_type": "code",
      "source": [
        "if(re.search(r\"Python\\d+\",\"Python3333\")):\n",
        "  print(\"Pattern found\")\n",
        "else:\n",
        "  print(\"Pattern not found\")"
      ],
      "metadata": {
        "colab": {
          "base_uri": "https://localhost:8080/"
        },
        "id": "E98s9SY97Saq",
        "outputId": "6eb6c381-5c80-4b98-cb71-f840813b2400"
      },
      "execution_count": 36,
      "outputs": [
        {
          "output_type": "stream",
          "name": "stdout",
          "text": [
            "Pattern found\n"
          ]
        }
      ]
    },
    {
      "cell_type": "code",
      "source": [
        "if(re.search(r\"Python\\d+\",\"Python\")):\n",
        "  print(\"Pattern found\")\n",
        "else:\n",
        "  print(\"Pattern not found\")"
      ],
      "metadata": {
        "colab": {
          "base_uri": "https://localhost:8080/"
        },
        "id": "zbcoySoB7gLo",
        "outputId": "c496dce3-d902-42c2-d76e-d0d54bb01e9d"
      },
      "execution_count": 37,
      "outputs": [
        {
          "output_type": "stream",
          "name": "stdout",
          "text": [
            "Pattern not found\n"
          ]
        }
      ]
    },
    {
      "cell_type": "code",
      "source": [
        "if(re.search(r\"Python+3\",\"Pythonnn3\")):\n",
        "  print(\"Pattern found\")\n",
        "else:\n",
        "  print(\"Pattern not found\")"
      ],
      "metadata": {
        "colab": {
          "base_uri": "https://localhost:8080/"
        },
        "id": "Lsa8Wg5_7tMZ",
        "outputId": "3ee166bc-f968-4292-e469-6e24c2a81058"
      },
      "execution_count": 38,
      "outputs": [
        {
          "output_type": "stream",
          "name": "stdout",
          "text": [
            "Pattern found\n"
          ]
        }
      ]
    },
    {
      "cell_type": "code",
      "source": [
        "if(re.search(r\"Python+3\",\"Pytho3\")):\n",
        "  print(\"Pattern found\")\n",
        "else:\n",
        "  print(\"Pattern not found\")"
      ],
      "metadata": {
        "colab": {
          "base_uri": "https://localhost:8080/"
        },
        "id": "o1xqVXTn7xOS",
        "outputId": "2ccfd36c-3e2f-41e1-f165-3371fc29bbf6"
      },
      "execution_count": 39,
      "outputs": [
        {
          "output_type": "stream",
          "name": "stdout",
          "text": [
            "Pattern not found\n"
          ]
        }
      ]
    },
    {
      "cell_type": "markdown",
      "source": [
        "***CASE - IX***\n",
        "\n",
        "'?' means 0 or 1 occurence. The charecter or digit before ? have to present 0 or 1 time."
      ],
      "metadata": {
        "id": "x9_2jh0O8Av5"
      }
    },
    {
      "cell_type": "code",
      "source": [
        "if(re.search(r\"Python\\d?\",\"Python3333\")):\n",
        "  print(\"Pattern found\")\n",
        "else:\n",
        "  print(\"Pattern not found\")"
      ],
      "metadata": {
        "colab": {
          "base_uri": "https://localhost:8080/"
        },
        "id": "b7sQj_zP8Kc8",
        "outputId": "069095f1-421f-416f-fc13-db6c2043f077"
      },
      "execution_count": 40,
      "outputs": [
        {
          "output_type": "stream",
          "name": "stdout",
          "text": [
            "Pattern found\n"
          ]
        }
      ]
    },
    {
      "cell_type": "code",
      "source": [
        "if(re.search(r\"Python\\d?\",\"Python\")):\n",
        "  print(\"Pattern found\")\n",
        "else:\n",
        "  print(\"Pattern not found\")"
      ],
      "metadata": {
        "colab": {
          "base_uri": "https://localhost:8080/"
        },
        "id": "s5KtLI0r8TzX",
        "outputId": "097b4b84-596e-44f4-acce-faf85ae43e6e"
      },
      "execution_count": 41,
      "outputs": [
        {
          "output_type": "stream",
          "name": "stdout",
          "text": [
            "Pattern found\n"
          ]
        }
      ]
    },
    {
      "cell_type": "code",
      "source": [
        "if(re.search(r\"Python\\d?22\",\"Python3322\")):\n",
        "  print(\"Pattern found\")\n",
        "else:\n",
        "  print(\"Pattern not found\")"
      ],
      "metadata": {
        "colab": {
          "base_uri": "https://localhost:8080/"
        },
        "id": "g-RqlmBM8hKS",
        "outputId": "b256640b-6e85-4480-bc50-81c41dee2040"
      },
      "execution_count": 42,
      "outputs": [
        {
          "output_type": "stream",
          "name": "stdout",
          "text": [
            "Pattern not found\n"
          ]
        }
      ]
    },
    {
      "cell_type": "markdown",
      "source": [
        "***CASE - X***\n",
        "\n",
        "'{n}' means certain number of times."
      ],
      "metadata": {
        "id": "9q3c1Vfn8yNs"
      }
    },
    {
      "cell_type": "code",
      "source": [
        "if(re.search(r\"Python\\d{4}\",\"Python3333\")):\n",
        "  print(\"Pattern found\")\n",
        "else:\n",
        "  print(\"Pattern not found\")"
      ],
      "metadata": {
        "colab": {
          "base_uri": "https://localhost:8080/"
        },
        "id": "_ZumJEnb9Lqo",
        "outputId": "11eb5d1c-d16d-4867-ebc5-57d84fa91008"
      },
      "execution_count": 43,
      "outputs": [
        {
          "output_type": "stream",
          "name": "stdout",
          "text": [
            "Pattern found\n"
          ]
        }
      ]
    },
    {
      "cell_type": "code",
      "source": [
        "if(re.search(r\"Python\\d{3}\",\"Python3333\")):\n",
        "  print(\"Pattern found\")\n",
        "else:\n",
        "  print(\"Pattern not found\")"
      ],
      "metadata": {
        "colab": {
          "base_uri": "https://localhost:8080/"
        },
        "id": "3hN6NZld9TDq",
        "outputId": "1235bffb-6b18-4fc8-d666-ad34accf8fe9"
      },
      "execution_count": 44,
      "outputs": [
        {
          "output_type": "stream",
          "name": "stdout",
          "text": [
            "Pattern found\n"
          ]
        }
      ]
    },
    {
      "cell_type": "code",
      "source": [
        "if(re.search(r\"Python\\d{5}\",\"Python3333\")):\n",
        "  print(\"Pattern found\")\n",
        "else:\n",
        "  print(\"Pattern not found\")"
      ],
      "metadata": {
        "colab": {
          "base_uri": "https://localhost:8080/"
        },
        "id": "ThhkEg4T9Vq_",
        "outputId": "c275c3ce-7463-46a3-b485-31395f537f4a"
      },
      "execution_count": 45,
      "outputs": [
        {
          "output_type": "stream",
          "name": "stdout",
          "text": [
            "Pattern not found\n"
          ]
        }
      ]
    },
    {
      "cell_type": "code",
      "source": [
        "if(re.search(r\"Python\\d{4}\",\"Python33333\")):\n",
        "  print(\"Pattern found\")\n",
        "else:\n",
        "  print(\"Pattern not found\")"
      ],
      "metadata": {
        "colab": {
          "base_uri": "https://localhost:8080/"
        },
        "id": "1B-TO0Nq9X72",
        "outputId": "056ae2f2-81f9-4ec3-d7b4-8fd21fadf926"
      },
      "execution_count": 46,
      "outputs": [
        {
          "output_type": "stream",
          "name": "stdout",
          "text": [
            "Pattern found\n"
          ]
        }
      ]
    },
    {
      "cell_type": "code",
      "source": [
        "if(re.search(r\"Py{3}thon3\",\"Pyyython3\")):\n",
        "  print(\"Pattern found\")\n",
        "else:\n",
        "  print(\"Pattern not found\")"
      ],
      "metadata": {
        "colab": {
          "base_uri": "https://localhost:8080/"
        },
        "id": "Dxe747ve9cCG",
        "outputId": "a02c61de-c5a0-430e-ee80-6e7e85238489"
      },
      "execution_count": 47,
      "outputs": [
        {
          "output_type": "stream",
          "name": "stdout",
          "text": [
            "Pattern found\n"
          ]
        }
      ]
    },
    {
      "cell_type": "code",
      "source": [
        "if(re.search(r\"Py{3}thon3\",\"Pyyython\")):\n",
        "  print(\"Pattern found\")\n",
        "else:\n",
        "  print(\"Pattern not found\")"
      ],
      "metadata": {
        "colab": {
          "base_uri": "https://localhost:8080/"
        },
        "id": "5zi2Lkrp9oaP",
        "outputId": "005ecb0a-42af-486d-dd42-4f7b6631479a"
      },
      "execution_count": 48,
      "outputs": [
        {
          "output_type": "stream",
          "name": "stdout",
          "text": [
            "Pattern not found\n"
          ]
        }
      ]
    },
    {
      "cell_type": "markdown",
      "source": [
        "***CASE - XI***\n",
        "\n",
        "'^' means starts with a particular charecter or digit"
      ],
      "metadata": {
        "id": "DYnbcclA-C0w"
      }
    },
    {
      "cell_type": "code",
      "source": [
        "if(re.search(r\"^P\",\"Python3\")):\n",
        "  print(\"Pattern found\")\n",
        "else:\n",
        "  print(\"Pattern not found\")"
      ],
      "metadata": {
        "colab": {
          "base_uri": "https://localhost:8080/"
        },
        "id": "47P4SBo1-RjX",
        "outputId": "25b9867e-46fa-4a35-ee41-57e7f887e19d"
      },
      "execution_count": 50,
      "outputs": [
        {
          "output_type": "stream",
          "name": "stdout",
          "text": [
            "Pattern found\n"
          ]
        }
      ]
    },
    {
      "cell_type": "code",
      "source": [
        "if(re.search(r\"^P|Q\",\"Python3\")):\n",
        "  print(\"Pattern found\")\n",
        "else:\n",
        "  print(\"Pattern not found\")"
      ],
      "metadata": {
        "colab": {
          "base_uri": "https://localhost:8080/"
        },
        "id": "7b_MvWCY-dDQ",
        "outputId": "8794f587-fbc8-4c87-c4f7-c4dc25df920f"
      },
      "execution_count": 51,
      "outputs": [
        {
          "output_type": "stream",
          "name": "stdout",
          "text": [
            "Pattern found\n"
          ]
        }
      ]
    },
    {
      "cell_type": "code",
      "source": [
        "if(re.search(r\"^C|Q\",\"Python3\")):\n",
        "  print(\"Pattern found\")\n",
        "else:\n",
        "  print(\"Pattern not found\")"
      ],
      "metadata": {
        "colab": {
          "base_uri": "https://localhost:8080/"
        },
        "id": "IN5s5qWV-iGV",
        "outputId": "3b9ea6d5-13ed-4cf4-efc5-29d82a30c847"
      },
      "execution_count": 52,
      "outputs": [
        {
          "output_type": "stream",
          "name": "stdout",
          "text": [
            "Pattern not found\n"
          ]
        }
      ]
    },
    {
      "cell_type": "markdown",
      "source": [
        "***CASE - XII***\n",
        "\n",
        "'$' means ends with a particular charecter or digit"
      ],
      "metadata": {
        "id": "Sr5oUjp8-sK5"
      }
    },
    {
      "cell_type": "code",
      "source": [
        "if(re.search(r\"3$\",\"Python3\")):\n",
        "  print(\"Pattern found\")\n",
        "else:\n",
        "  print(\"Pattern not found\")"
      ],
      "metadata": {
        "colab": {
          "base_uri": "https://localhost:8080/"
        },
        "id": "4zeTiZTr-xDr",
        "outputId": "96f8c524-7b98-4148-cf73-753f084aa72b"
      },
      "execution_count": 54,
      "outputs": [
        {
          "output_type": "stream",
          "name": "stdout",
          "text": [
            "Pattern found\n"
          ]
        }
      ]
    },
    {
      "cell_type": "code",
      "source": [
        "if(re.search(r\"P|Q$\",\"Python3\")):\n",
        "  print(\"Pattern found\")\n",
        "else:\n",
        "  print(\"Pattern not found\")"
      ],
      "metadata": {
        "colab": {
          "base_uri": "https://localhost:8080/"
        },
        "id": "jhOb_UT3_MkZ",
        "outputId": "ddf01164-945d-46b9-e356-80abb5e7758c"
      },
      "execution_count": 55,
      "outputs": [
        {
          "output_type": "stream",
          "name": "stdout",
          "text": [
            "Pattern found\n"
          ]
        }
      ]
    },
    {
      "cell_type": "markdown",
      "source": [
        "CASE - XIII\n",
        "\n",
        "'\\w' checks for a-z,A-Z,0-9,_"
      ],
      "metadata": {
        "id": "NPyfFCoq_Pe5"
      }
    },
    {
      "cell_type": "code",
      "source": [
        "if(re.search(r\"\\w$\",\"Python%\")):\n",
        "  print(\"Pattern found\")\n",
        "else:\n",
        "  print(\"Pattern not found\")"
      ],
      "metadata": {
        "colab": {
          "base_uri": "https://localhost:8080/"
        },
        "id": "zTq0xup7_Yqf",
        "outputId": "e0bf3df8-8e6a-4ede-bbc9-75363f517643"
      },
      "execution_count": 56,
      "outputs": [
        {
          "output_type": "stream",
          "name": "stdout",
          "text": [
            "Pattern not found\n"
          ]
        }
      ]
    },
    {
      "cell_type": "code",
      "source": [
        "if(re.search(r\"\\w$\",\"Python_\")):\n",
        "  print(\"Pattern found\")\n",
        "else:\n",
        "  print(\"Pattern not found\")"
      ],
      "metadata": {
        "colab": {
          "base_uri": "https://localhost:8080/"
        },
        "id": "8myBTH7u_hDP",
        "outputId": "d45e3bfa-4177-4170-e81e-409da14e121c"
      },
      "execution_count": 57,
      "outputs": [
        {
          "output_type": "stream",
          "name": "stdout",
          "text": [
            "Pattern found\n"
          ]
        }
      ]
    },
    {
      "cell_type": "markdown",
      "source": [
        "***CASE - XIV***\n",
        "\n",
        "\"\\\\\" escapes the special meaning of a charecter."
      ],
      "metadata": {
        "id": "q5dpQAGc_5JB"
      }
    },
    {
      "cell_type": "code",
      "source": [
        "if(re.search(r\"Python\\*3\",\"Python*3\")):\n",
        "  print(\"Pattern found\")\n",
        "else:\n",
        "  print(\"Pattern not found\")"
      ],
      "metadata": {
        "colab": {
          "base_uri": "https://localhost:8080/"
        },
        "id": "0_vQBeYC_4PU",
        "outputId": "bf589d8e-4474-44ad-f90f-e0784012d47b"
      },
      "execution_count": 59,
      "outputs": [
        {
          "output_type": "stream",
          "name": "stdout",
          "text": [
            "Pattern found\n"
          ]
        }
      ]
    },
    {
      "cell_type": "code",
      "source": [
        "if(re.search(r\"xyz@gmail\\.com\",\"xyz@gmail.com\")):\n",
        "  print(\"Pattern found\")\n",
        "else:\n",
        "  print(\"Pattern not found\")"
      ],
      "metadata": {
        "colab": {
          "base_uri": "https://localhost:8080/"
        },
        "id": "Mh80PRMwArzq",
        "outputId": "9a8f27f9-7211-46c4-d1ff-e112d712548c"
      },
      "execution_count": 64,
      "outputs": [
        {
          "output_type": "stream",
          "name": "stdout",
          "text": [
            "Pattern found\n"
          ]
        }
      ]
    },
    {
      "cell_type": "markdown",
      "source": [
        "***## SUBSTITUTING a string with another***"
      ],
      "metadata": {
        "id": "mn2UczyyCJbp"
      }
    },
    {
      "cell_type": "code",
      "source": [
        "print(\"Before modifying:-\",input)\n",
        "print(\"After modifying:-\",re.sub(r'I am',r'We are',input))"
      ],
      "metadata": {
        "colab": {
          "base_uri": "https://localhost:8080/"
        },
        "id": "a3lRupKmCbzZ",
        "outputId": "2dc22dc8-3821-4db1-8232-65885766695f"
      },
      "execution_count": 66,
      "outputs": [
        {
          "output_type": "stream",
          "name": "stdout",
          "text": [
            "Before modifying:- I am a coding lover\n",
            "After modifying:- We are a coding lover\n"
          ]
        }
      ]
    },
    {
      "cell_type": "code",
      "source": [
        "var=\"The flight number is a20133\"\n",
        "print(\"Before modifying:-\",var)\n",
        "print(\"After modifying:-\",re.sub(r'a(\\d{5})',r'A\\1',var)) ### () used for grouping in first parameter."
      ],
      "metadata": {
        "colab": {
          "base_uri": "https://localhost:8080/"
        },
        "id": "Li1N-EDcC5MS",
        "outputId": "eb6a58d1-66bd-4946-d197-45a4b6816ddd"
      },
      "execution_count": 68,
      "outputs": [
        {
          "output_type": "stream",
          "name": "stdout",
          "text": [
            "Before modifying:- The flight number is a20133\n",
            "After modifying:- The flight number is A20133\n"
          ]
        }
      ]
    }
  ]
}