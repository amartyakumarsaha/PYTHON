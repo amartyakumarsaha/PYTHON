{
  "nbformat": 4,
  "nbformat_minor": 0,
  "metadata": {
    "colab": {
      "name": "PYTHON LIST.ipynb",
      "provenance": []
    },
    "kernelspec": {
      "name": "python3",
      "display_name": "Python 3"
    },
    "language_info": {
      "name": "python"
    }
  },
  "cells": [
    {
      "cell_type": "markdown",
      "metadata": {
        "id": "QoGSxj4h0IH2"
      },
      "source": [
        "***HOW TO CREATE A EMPTY LIST***\n",
        "\n"
      ]
    },
    {
      "cell_type": "code",
      "metadata": {
        "colab": {
          "base_uri": "https://localhost:8080/"
        },
        "id": "u3jDVhFr0VQj",
        "outputId": "6879a8c6-ae09-4857-8d9d-7aa47654e7bd"
      },
      "source": [
        "l=[]\n",
        "print(l)"
      ],
      "execution_count": null,
      "outputs": [
        {
          "output_type": "stream",
          "text": [
            "[]\n"
          ],
          "name": "stdout"
        }
      ]
    },
    {
      "cell_type": "markdown",
      "metadata": {
        "id": "H6mFC9c90kTf"
      },
      "source": [
        "***CREATING A LIST OF INTEGERS***"
      ]
    },
    {
      "cell_type": "code",
      "metadata": {
        "colab": {
          "base_uri": "https://localhost:8080/"
        },
        "id": "sUES6iZ70qFN",
        "outputId": "5e54f0e7-04c8-467e-d6e4-25040c6f1d4b"
      },
      "source": [
        "l=[10,20,30]\n",
        "print(l)"
      ],
      "execution_count": null,
      "outputs": [
        {
          "output_type": "stream",
          "text": [
            "[10, 20, 30]\n"
          ],
          "name": "stdout"
        }
      ]
    },
    {
      "cell_type": "markdown",
      "metadata": {
        "id": "oPV3YuUP09xW"
      },
      "source": [
        "***CREATING A LIST OF MIXED DATA TYPES***"
      ]
    },
    {
      "cell_type": "code",
      "metadata": {
        "colab": {
          "base_uri": "https://localhost:8080/"
        },
        "id": "irwv8L_e0uob",
        "outputId": "d51e2001-715b-4b57-e71a-fc6df6f3d632"
      },
      "source": [
        "l=[10,\"Hello\",20.05]\n",
        "print(l)"
      ],
      "execution_count": null,
      "outputs": [
        {
          "output_type": "stream",
          "text": [
            "[10, 'Hello', 20.05]\n"
          ],
          "name": "stdout"
        }
      ]
    },
    {
      "cell_type": "markdown",
      "metadata": {
        "id": "2Uun81m63rR1"
      },
      "source": [
        "***CREATING NESTED LIST***"
      ]
    },
    {
      "cell_type": "code",
      "metadata": {
        "colab": {
          "base_uri": "https://localhost:8080/"
        },
        "id": "KRlPTpm71R6g",
        "outputId": "91474d4b-6e3d-40da-b1cc-a5bc64513c6f"
      },
      "source": [
        "l=[10,[\"Hello\",50],[30,77.55]]\n",
        "print(l)"
      ],
      "execution_count": null,
      "outputs": [
        {
          "output_type": "stream",
          "text": [
            "[10, ['Hello', 50], [30, 77.55]]\n"
          ],
          "name": "stdout"
        }
      ]
    },
    {
      "cell_type": "markdown",
      "metadata": {
        "id": "qyG3OFzq4UWU"
      },
      "source": [
        "# ***ACCESSING LIST ELEMENTS :***"
      ]
    },
    {
      "cell_type": "markdown",
      "metadata": {
        "id": "wc_tVP7e4nHs"
      },
      "source": [
        "***POSITIVE INDEXING*** --> Positive indexing starts from front and index number starts with 0."
      ]
    },
    {
      "cell_type": "code",
      "metadata": {
        "colab": {
          "base_uri": "https://localhost:8080/"
        },
        "id": "KSdkFuP04ur8",
        "outputId": "554108cc-b3a8-4649-c65d-a053fb1b1f34"
      },
      "source": [
        "l=['G','O','O','G','L','E']\n",
        "print(l[0])"
      ],
      "execution_count": null,
      "outputs": [
        {
          "output_type": "stream",
          "text": [
            "G\n"
          ],
          "name": "stdout"
        }
      ]
    },
    {
      "cell_type": "code",
      "metadata": {
        "colab": {
          "base_uri": "https://localhost:8080/"
        },
        "id": "D_PO_n6G47NA",
        "outputId": "dc84d4d0-c903-4efc-d46d-d43221966f10"
      },
      "source": [
        "l=['G','O','O','G','L','E']\n",
        "print(l[1])"
      ],
      "execution_count": null,
      "outputs": [
        {
          "output_type": "stream",
          "text": [
            "O\n"
          ],
          "name": "stdout"
        }
      ]
    },
    {
      "cell_type": "code",
      "metadata": {
        "colab": {
          "base_uri": "https://localhost:8080/"
        },
        "id": "Wt0o1aSU5EiS",
        "outputId": "43f5b500-1191-40d5-e91d-4523b3a9f149"
      },
      "source": [
        "l=['G','O','O','G','L','E']\n",
        "print(l[2])"
      ],
      "execution_count": null,
      "outputs": [
        {
          "output_type": "stream",
          "text": [
            "O\n"
          ],
          "name": "stdout"
        }
      ]
    },
    {
      "cell_type": "code",
      "metadata": {
        "colab": {
          "base_uri": "https://localhost:8080/"
        },
        "id": "_oA_7zhN5Gog",
        "outputId": "728bc9c1-dc60-44fe-d8e3-b0aee29bcc98"
      },
      "source": [
        "l=['G','O','O','G','L','E']\n",
        "print(l[3])"
      ],
      "execution_count": null,
      "outputs": [
        {
          "output_type": "stream",
          "text": [
            "G\n"
          ],
          "name": "stdout"
        }
      ]
    },
    {
      "cell_type": "code",
      "metadata": {
        "colab": {
          "base_uri": "https://localhost:8080/"
        },
        "id": "xacBqx5G5JC1",
        "outputId": "af13881f-2395-4faa-88d9-7ba7edb984c1"
      },
      "source": [
        "l=['G','O','O','G','L','E']\n",
        "print(l[4])"
      ],
      "execution_count": null,
      "outputs": [
        {
          "output_type": "stream",
          "text": [
            "L\n"
          ],
          "name": "stdout"
        }
      ]
    },
    {
      "cell_type": "code",
      "metadata": {
        "colab": {
          "base_uri": "https://localhost:8080/"
        },
        "id": "fBnQBpxR5NQ1",
        "outputId": "e9dd0d02-369b-4390-bc9e-f373076dbb1b"
      },
      "source": [
        "l=['G','O','O','G','L','E']\n",
        "print(l[5])"
      ],
      "execution_count": null,
      "outputs": [
        {
          "output_type": "stream",
          "text": [
            "E\n"
          ],
          "name": "stdout"
        }
      ]
    },
    {
      "cell_type": "markdown",
      "metadata": {
        "id": "TVC0orCc5jbg"
      },
      "source": [
        "***NEGATIVE INDEXING*** --> Negative indexing starts from end and index number starts with -1."
      ]
    },
    {
      "cell_type": "code",
      "metadata": {
        "colab": {
          "base_uri": "https://localhost:8080/"
        },
        "id": "v7AjcETV5O1J",
        "outputId": "00495165-ff5d-4031-8f66-6bbc00d918bf"
      },
      "source": [
        "l=['G','O','O','G','L','E']\n",
        "print(l[-1])"
      ],
      "execution_count": null,
      "outputs": [
        {
          "output_type": "stream",
          "text": [
            "E\n"
          ],
          "name": "stdout"
        }
      ]
    },
    {
      "cell_type": "code",
      "metadata": {
        "colab": {
          "base_uri": "https://localhost:8080/"
        },
        "id": "F-25syb87EOX",
        "outputId": "dfa610ea-0390-41e1-9d99-ed60e160ab64"
      },
      "source": [
        "l=['G','O','O','G','L','E']\n",
        "print(l[-2])"
      ],
      "execution_count": null,
      "outputs": [
        {
          "output_type": "stream",
          "text": [
            "L\n"
          ],
          "name": "stdout"
        }
      ]
    },
    {
      "cell_type": "code",
      "metadata": {
        "colab": {
          "base_uri": "https://localhost:8080/"
        },
        "id": "CceomDxD7Geh",
        "outputId": "afdd1474-ee80-488a-ff4f-2b32c3b084d8"
      },
      "source": [
        "l=['G','O','O','G','L','E']\n",
        "print(l[-3])"
      ],
      "execution_count": null,
      "outputs": [
        {
          "output_type": "stream",
          "text": [
            "G\n"
          ],
          "name": "stdout"
        }
      ]
    },
    {
      "cell_type": "code",
      "metadata": {
        "colab": {
          "base_uri": "https://localhost:8080/"
        },
        "id": "Hk2SEtt67INi",
        "outputId": "d2af0969-24a3-45de-93b4-702fbeebaf8a"
      },
      "source": [
        "l=['G','O','O','G','L','E']\n",
        "print(l[-4])"
      ],
      "execution_count": null,
      "outputs": [
        {
          "output_type": "stream",
          "text": [
            "O\n"
          ],
          "name": "stdout"
        }
      ]
    },
    {
      "cell_type": "code",
      "metadata": {
        "colab": {
          "base_uri": "https://localhost:8080/"
        },
        "id": "mtf9jH057KW-",
        "outputId": "f6e76d87-36d2-4082-c58f-06359b52edaf"
      },
      "source": [
        "l=['G','O','O','G','L','E']\n",
        "print(l[-5])"
      ],
      "execution_count": null,
      "outputs": [
        {
          "output_type": "stream",
          "text": [
            "O\n"
          ],
          "name": "stdout"
        }
      ]
    },
    {
      "cell_type": "code",
      "metadata": {
        "colab": {
          "base_uri": "https://localhost:8080/"
        },
        "id": "zb19z0nZ7Muw",
        "outputId": "493eff31-4fe2-4d25-de85-d3e4a73e7e80"
      },
      "source": [
        "l=['G','O','O','G','L','E']\n",
        "print(l[-6])"
      ],
      "execution_count": null,
      "outputs": [
        {
          "output_type": "stream",
          "text": [
            "G\n"
          ],
          "name": "stdout"
        }
      ]
    },
    {
      "cell_type": "markdown",
      "metadata": {
        "id": "6PRNVNa57f9t"
      },
      "source": [
        "# ***LIST SLICING :***"
      ]
    },
    {
      "cell_type": "code",
      "metadata": {
        "colab": {
          "base_uri": "https://localhost:8080/"
        },
        "id": "7kSfSRcb7t32",
        "outputId": "638a254f-4fbd-48e1-846d-7f2b7a5a85ec"
      },
      "source": [
        "l=['G','O','O','G','L','E']\n",
        "print(l[:]) # Prints the actual list."
      ],
      "execution_count": null,
      "outputs": [
        {
          "output_type": "stream",
          "text": [
            "['G', 'O', 'O', 'G', 'L', 'E']\n"
          ],
          "name": "stdout"
        }
      ]
    },
    {
      "cell_type": "code",
      "metadata": {
        "colab": {
          "base_uri": "https://localhost:8080/"
        },
        "id": "R90VoFJQ7xD1",
        "outputId": "563b783c-d39e-40ef-d0b4-1e8db801ff40"
      },
      "source": [
        "l=['G','O','O','G','L','E']\n",
        "print(l[:5]) # Prints list elements from index 0 to index (5-1)=4 "
      ],
      "execution_count": null,
      "outputs": [
        {
          "output_type": "stream",
          "text": [
            "['G', 'O', 'O', 'G', 'L']\n"
          ],
          "name": "stdout"
        }
      ]
    },
    {
      "cell_type": "code",
      "metadata": {
        "colab": {
          "base_uri": "https://localhost:8080/"
        },
        "id": "UyGz52WT75lg",
        "outputId": "cc5ef94a-dce4-477a-8a00-8c852c989bc3"
      },
      "source": [
        "l=['G','O','O','G','L','E']\n",
        "print(l[:4]) # Prints list elements from index 0 to index (4-1)= 3"
      ],
      "execution_count": null,
      "outputs": [
        {
          "output_type": "stream",
          "text": [
            "['G', 'O', 'O', 'G']\n"
          ],
          "name": "stdout"
        }
      ]
    },
    {
      "cell_type": "code",
      "metadata": {
        "colab": {
          "base_uri": "https://localhost:8080/"
        },
        "id": "QUsQnvfI8nWp",
        "outputId": "81023dfe-2271-4be9-f245-2f8364551627"
      },
      "source": [
        "l=['G','O','O','G','L','E']\n",
        "print(l[2:5])      # Prints list elements from index 2 to index (5-1)=4 "
      ],
      "execution_count": null,
      "outputs": [
        {
          "output_type": "stream",
          "text": [
            "['O', 'G', 'L']\n"
          ],
          "name": "stdout"
        }
      ]
    },
    {
      "cell_type": "code",
      "metadata": {
        "colab": {
          "base_uri": "https://localhost:8080/"
        },
        "id": "-x_Qn1yB9E-O",
        "outputId": "e85f5f0d-481b-4d2c-ff63-c8511bc361b4"
      },
      "source": [
        "l=['G','O','O','G','L','E']\n",
        "print(l[2:4])      # Prints list elements from index 2 to index (5-1)=3"
      ],
      "execution_count": null,
      "outputs": [
        {
          "output_type": "stream",
          "text": [
            "['O', 'G']\n"
          ],
          "name": "stdout"
        }
      ]
    },
    {
      "cell_type": "code",
      "metadata": {
        "colab": {
          "base_uri": "https://localhost:8080/"
        },
        "id": "zmzKhBEK9SkR",
        "outputId": "52dd0178-466e-4569-88dd-d356824cc2e7"
      },
      "source": [
        "l=['G','O','O','G','L','E']\n",
        "print(l[-1:])      # Prints list elements from index -1 to index 5"
      ],
      "execution_count": null,
      "outputs": [
        {
          "output_type": "stream",
          "text": [
            "['E']\n"
          ],
          "name": "stdout"
        }
      ]
    },
    {
      "cell_type": "code",
      "metadata": {
        "colab": {
          "base_uri": "https://localhost:8080/"
        },
        "id": "oCl49RQV9YW6",
        "outputId": "9b83890e-7aec-4cde-bd32-1b39a97761d7"
      },
      "source": [
        "l=['G','O','O','G','L','E']\n",
        "print(l[-4:-1])      # Prints list elements from index -4 to index -1"
      ],
      "execution_count": null,
      "outputs": [
        {
          "output_type": "stream",
          "text": [
            "['O', 'G', 'L']\n"
          ],
          "name": "stdout"
        }
      ]
    },
    {
      "cell_type": "code",
      "metadata": {
        "colab": {
          "base_uri": "https://localhost:8080/"
        },
        "id": "6SW0vINq9obQ",
        "outputId": "72dc6baf-cc3f-485b-f355-d8d24d39ec9b"
      },
      "source": [
        "l=['G','O','O','G','L','E']\n",
        "print(l[-5:2])"
      ],
      "execution_count": null,
      "outputs": [
        {
          "output_type": "stream",
          "text": [
            "['O']\n"
          ],
          "name": "stdout"
        }
      ]
    },
    {
      "cell_type": "code",
      "metadata": {
        "colab": {
          "base_uri": "https://localhost:8080/"
        },
        "id": "ZVVzJ5RqFx82",
        "outputId": "0ef2b229-c103-4415-8dbe-7631966bd39b"
      },
      "source": [
        "l=['G','O','O','G','L','E']\n",
        "print(l[::2]) # It will start printing from index 0 and skip 1 element and continue."
      ],
      "execution_count": null,
      "outputs": [
        {
          "output_type": "stream",
          "text": [
            "['G', 'O', 'L']\n"
          ],
          "name": "stdout"
        }
      ]
    },
    {
      "cell_type": "markdown",
      "metadata": {
        "id": "r-V5K9jmGPXO"
      },
      "source": [
        "# ***CHANGING AND ADDING THE ELEMENT OF A LIST:***"
      ]
    },
    {
      "cell_type": "code",
      "metadata": {
        "colab": {
          "base_uri": "https://localhost:8080/"
        },
        "id": "PQ08wp0IF73C",
        "outputId": "56928bbe-d00a-49d6-abf6-d0f917f76598"
      },
      "source": [
        "l=[10,20,30,40]\n",
        "print(l)"
      ],
      "execution_count": null,
      "outputs": [
        {
          "output_type": "stream",
          "text": [
            "[10, 20, 30, 40]\n"
          ],
          "name": "stdout"
        }
      ]
    },
    {
      "cell_type": "code",
      "metadata": {
        "colab": {
          "base_uri": "https://localhost:8080/"
        },
        "id": "-b6kAaTUGkAK",
        "outputId": "4cd22a28-2bcd-4a72-ce2b-13e634c1cc91"
      },
      "source": [
        "l=[10,20,30,40]\n",
        "l[0]=50\n",
        "print(l)"
      ],
      "execution_count": null,
      "outputs": [
        {
          "output_type": "stream",
          "text": [
            "[50, 20, 30, 40]\n"
          ],
          "name": "stdout"
        }
      ]
    },
    {
      "cell_type": "code",
      "metadata": {
        "colab": {
          "base_uri": "https://localhost:8080/"
        },
        "id": "3C8P7XAdGxRw",
        "outputId": "cbfa1a37-32df-41da-f5a8-3194b53ec273"
      },
      "source": [
        "l=[10,20,30,40]\n",
        "l[1:4]=[60,70,80] # Change or replace the elements of index 1 to index (4-1)=3 by the new elements.\n",
        "print(l)"
      ],
      "execution_count": null,
      "outputs": [
        {
          "output_type": "stream",
          "text": [
            "[10, 60, 70, 80]\n"
          ],
          "name": "stdout"
        }
      ]
    },
    {
      "cell_type": "code",
      "metadata": {
        "colab": {
          "base_uri": "https://localhost:8080/"
        },
        "id": "oir5BqztG-Mf",
        "outputId": "cafcd72c-bbbc-45e7-fa5d-213591c6fa36"
      },
      "source": [
        "l=[10,20,30,40]\n",
        "l[:3]=[50,80]\n",
        "print(l)"
      ],
      "execution_count": null,
      "outputs": [
        {
          "output_type": "stream",
          "text": [
            "[50, 80, 40]\n"
          ],
          "name": "stdout"
        }
      ]
    },
    {
      "cell_type": "markdown",
      "metadata": {
        "id": "CAq1l762IBbX"
      },
      "source": [
        "# ***DIFFERENT LIST METHODS WITH EXAMPLE:***"
      ]
    },
    {
      "cell_type": "markdown",
      "metadata": {
        "id": "22vS2XiqIWlq"
      },
      "source": [
        "***append()*** --> The append() method adds one single element to the end of the list.\n",
        "\n"
      ]
    },
    {
      "cell_type": "code",
      "metadata": {
        "colab": {
          "base_uri": "https://localhost:8080/"
        },
        "id": "rfbMnzsAIpns",
        "outputId": "f0ee05d4-455a-4909-a4b8-25699ca6de08"
      },
      "source": [
        "l=[10,20,30,40]\n",
        "l.append(50)\n",
        "print(l)"
      ],
      "execution_count": null,
      "outputs": [
        {
          "output_type": "stream",
          "text": [
            "[10, 20, 30, 40, 50]\n"
          ],
          "name": "stdout"
        }
      ]
    },
    {
      "cell_type": "code",
      "metadata": {
        "colab": {
          "base_uri": "https://localhost:8080/"
        },
        "id": "Zj2cCxVoIxdm",
        "outputId": "f688fdd3-f574-47f2-dcf2-7f30f272823f"
      },
      "source": [
        "l=[\"Python\",\"Java\",\"C++\"]\n",
        "l.append(\"C\")\n",
        "print(l)"
      ],
      "execution_count": null,
      "outputs": [
        {
          "output_type": "stream",
          "text": [
            "['Python', 'Java', 'C++', 'C']\n"
          ],
          "name": "stdout"
        }
      ]
    },
    {
      "cell_type": "code",
      "metadata": {
        "colab": {
          "base_uri": "https://localhost:8080/",
          "height": 195
        },
        "id": "UPNZdO7_JQDE",
        "outputId": "9c7b7485-c22c-4ccc-dfc0-a7cb31c7c10f"
      },
      "source": [
        "l=[\"Python\",\"Java\",\"C++\"]\n",
        "l.append(\"C\",\"Ruby\")  # Gives error because append() can add only one element at the end of a list.\n",
        "print(l)"
      ],
      "execution_count": null,
      "outputs": [
        {
          "output_type": "error",
          "ename": "TypeError",
          "evalue": "ignored",
          "traceback": [
            "\u001b[0;31m---------------------------------------------------------------------------\u001b[0m",
            "\u001b[0;31mTypeError\u001b[0m                                 Traceback (most recent call last)",
            "\u001b[0;32m<ipython-input-3-0f6e7a1224bf>\u001b[0m in \u001b[0;36m<module>\u001b[0;34m()\u001b[0m\n\u001b[1;32m      1\u001b[0m \u001b[0ml\u001b[0m\u001b[0;34m=\u001b[0m\u001b[0;34m[\u001b[0m\u001b[0;34m\"Python\"\u001b[0m\u001b[0;34m,\u001b[0m\u001b[0;34m\"Java\"\u001b[0m\u001b[0;34m,\u001b[0m\u001b[0;34m\"C++\"\u001b[0m\u001b[0;34m]\u001b[0m\u001b[0;34m\u001b[0m\u001b[0;34m\u001b[0m\u001b[0m\n\u001b[0;32m----> 2\u001b[0;31m \u001b[0ml\u001b[0m\u001b[0;34m.\u001b[0m\u001b[0mappend\u001b[0m\u001b[0;34m(\u001b[0m\u001b[0;34m\"C\"\u001b[0m\u001b[0;34m,\u001b[0m\u001b[0;34m\"Ruby\"\u001b[0m\u001b[0;34m)\u001b[0m  \u001b[0;31m# Gives error because append() can add only one element at the end of a list.\u001b[0m\u001b[0;34m\u001b[0m\u001b[0;34m\u001b[0m\u001b[0m\n\u001b[0m\u001b[1;32m      3\u001b[0m \u001b[0mprint\u001b[0m\u001b[0;34m(\u001b[0m\u001b[0ml\u001b[0m\u001b[0;34m)\u001b[0m\u001b[0;34m\u001b[0m\u001b[0;34m\u001b[0m\u001b[0m\n",
            "\u001b[0;31mTypeError\u001b[0m: append() takes exactly one argument (2 given)"
          ]
        }
      ]
    },
    {
      "cell_type": "code",
      "metadata": {
        "id": "ic7od-IMJXe3"
      },
      "source": [
        "l=[\"Python\",\"Java\",\"C++\"]\n",
        "l.append([\"C\",\"Ruby\"]) # Here the argument is considered as single element. (NESTED LIST)\n",
        "print(l)"
      ],
      "execution_count": null,
      "outputs": []
    },
    {
      "cell_type": "markdown",
      "metadata": {
        "id": "g3KDypkXjodC"
      },
      "source": [
        "***extend()*** --> The extend() method adds all the elements of an iterable (list, tuple, string etc.) to the end of the list."
      ]
    },
    {
      "cell_type": "code",
      "metadata": {
        "id": "S6_8OegpjzVu"
      },
      "source": [
        "l=[\"C\",\"Python\"]\n",
        "m=[\"Java\",\"C++\"]\n",
        "l.extend(m)\n",
        "print(l)"
      ],
      "execution_count": null,
      "outputs": []
    },
    {
      "cell_type": "code",
      "metadata": {
        "id": "tJ3gf9kDkEUS"
      },
      "source": [
        "l=[\"C\",\"Python\"]\n",
        "m=(\"Java\",\"C++\")  # tuple\n",
        "l.extend(m)\n",
        "print(l)"
      ],
      "execution_count": null,
      "outputs": []
    },
    {
      "cell_type": "code",
      "metadata": {
        "id": "6qSO0FJ2kPM9"
      },
      "source": [
        "l=[\"C\",\"Python\"]\n",
        "m={\"Java\",\"C++\"}  # set\n",
        "l.extend(m)\n",
        "print(l)"
      ],
      "execution_count": null,
      "outputs": []
    },
    {
      "cell_type": "code",
      "metadata": {
        "id": "W8rU65i7ktQI"
      },
      "source": [
        "l=[\"C\",\"Python\"]\n",
        "m=[\"Java\",\"C++\"]\n",
        "l+=m               # Using + operator also extend can be done.\n",
        "print(l)"
      ],
      "execution_count": null,
      "outputs": []
    },
    {
      "cell_type": "markdown",
      "metadata": {
        "id": "PJqvNGDBk599"
      },
      "source": [
        "***insert()*** -->insert() method inserts an element to the list at the specified index."
      ]
    },
    {
      "cell_type": "code",
      "metadata": {
        "id": "2JffDnBOlOG7"
      },
      "source": [
        "l = ['a','e','i','u']\n",
        "l.insert(3,'o')         # inserts  the element 'o' at 3rd index of the list.\n",
        "print(l)"
      ],
      "execution_count": null,
      "outputs": []
    },
    {
      "cell_type": "code",
      "metadata": {
        "id": "09dnrNbIl6_w"
      },
      "source": [
        "l = [1,2,3,4]\n",
        "t = (5,6)\n",
        "l.insert(4,t) # inserting a tuple t inside the list l at index number 4.\n",
        "print(l)"
      ],
      "execution_count": null,
      "outputs": []
    },
    {
      "cell_type": "code",
      "metadata": {
        "id": "uNVCTlEzmbXk"
      },
      "source": [
        "l=[1,2,3,4]\n",
        "s={5,6}\n",
        "l.insert(4,s) # inserting a set t inside the list l at index number 4.\n",
        "print(l)"
      ],
      "execution_count": null,
      "outputs": []
    },
    {
      "cell_type": "code",
      "metadata": {
        "colab": {
          "base_uri": "https://localhost:8080/"
        },
        "id": "Au6nKXCLmwmZ",
        "outputId": "abb7893c-6508-4388-e811-959a1f3f6965"
      },
      "source": [
        "l=[1,2,3,4]\n",
        "t=(5,6)\n",
        "s={7,8}\n",
        "l.insert(0,t)\n",
        "l.insert(3,s)\n",
        "print(l)"
      ],
      "execution_count": null,
      "outputs": [
        {
          "output_type": "stream",
          "text": [
            "[(5, 6), 1, 2, {8, 7}, 3, 4]\n"
          ],
          "name": "stdout"
        }
      ]
    },
    {
      "cell_type": "markdown",
      "metadata": {
        "id": "ugQQxPNjaLar"
      },
      "source": [
        "***remove()*** --> The remove() method removes the first matching element (which is passed as an argument) from the list."
      ]
    },
    {
      "cell_type": "code",
      "metadata": {
        "colab": {
          "base_uri": "https://localhost:8080/"
        },
        "id": "cotuUu7baWqj",
        "outputId": "212b3139-040d-411e-cf3a-914f08090d2e"
      },
      "source": [
        "l=[10,20,30,40,50]\n",
        "l.remove(30)\n",
        "print(l)"
      ],
      "execution_count": null,
      "outputs": [
        {
          "output_type": "stream",
          "text": [
            "[10, 20, 40, 50]\n"
          ],
          "name": "stdout"
        }
      ]
    },
    {
      "cell_type": "code",
      "metadata": {
        "colab": {
          "base_uri": "https://localhost:8080/"
        },
        "id": "cJgNVYSMagxW",
        "outputId": "38525dab-a83a-4fbc-fd4c-a3dc3939310a"
      },
      "source": [
        "l=[10,20,10,40,30,40,50]\n",
        "l.remove(40)\n",
        "print(l)"
      ],
      "execution_count": null,
      "outputs": [
        {
          "output_type": "stream",
          "text": [
            "[10, 20, 10, 30, 40, 50]\n"
          ],
          "name": "stdout"
        }
      ]
    },
    {
      "cell_type": "code",
      "metadata": {
        "colab": {
          "base_uri": "https://localhost:8080/"
        },
        "id": "ARmwGJAZatAE",
        "outputId": "554ea950-14a6-4b75-9f7f-19f3c120861c"
      },
      "source": [
        "l = ['C','Java','Python','C++']\n",
        "l.remove('Java')\n",
        "print(l)"
      ],
      "execution_count": null,
      "outputs": [
        {
          "output_type": "stream",
          "text": [
            "['C', 'Python', 'C++']\n"
          ],
          "name": "stdout"
        }
      ]
    },
    {
      "cell_type": "code",
      "metadata": {
        "colab": {
          "base_uri": "https://localhost:8080/"
        },
        "id": "GiIvuhrtayp-",
        "outputId": "16b4af4c-a1ef-4894-8ce3-5c1bfd506774"
      },
      "source": [
        "l = ['C','Java','Python','C++','Python','C']\n",
        "l.remove('Python')\n",
        "print(l)"
      ],
      "execution_count": null,
      "outputs": [
        {
          "output_type": "stream",
          "text": [
            "['C', 'Java', 'C++', 'Python', 'C']\n"
          ],
          "name": "stdout"
        }
      ]
    },
    {
      "cell_type": "markdown",
      "metadata": {
        "id": "OlU9tQR1bcXn"
      },
      "source": [
        "***pop()*** --> The pop() method removes the item at the given index from the list and returns the removed item."
      ]
    },
    {
      "cell_type": "code",
      "metadata": {
        "colab": {
          "base_uri": "https://localhost:8080/"
        },
        "id": "G2ItLxLQb-Ne",
        "outputId": "8af62de7-ae5c-4479-9b5b-bf4346366d24"
      },
      "source": [
        "l=[10,20,30,40,50]\n",
        "print(l.pop())  # No argument is passed so last element of the list has poped out."
      ],
      "execution_count": null,
      "outputs": [
        {
          "output_type": "stream",
          "text": [
            "50\n"
          ],
          "name": "stdout"
        }
      ]
    },
    {
      "cell_type": "code",
      "metadata": {
        "colab": {
          "base_uri": "https://localhost:8080/"
        },
        "id": "eeP22EVwcLGu",
        "outputId": "96c28692-b999-4e0c-903c-b3e3dadc06f8"
      },
      "source": [
        "l = ['C','Java','Python','C++']\n",
        "print(l.pop())"
      ],
      "execution_count": null,
      "outputs": [
        {
          "output_type": "stream",
          "text": [
            "C++\n"
          ],
          "name": "stdout"
        }
      ]
    },
    {
      "cell_type": "code",
      "metadata": {
        "colab": {
          "base_uri": "https://localhost:8080/"
        },
        "id": "pI0JI0BqckAI",
        "outputId": "66694d58-99cc-4879-af24-2a8cf6e1fd30"
      },
      "source": [
        "l = ['C','Java','Python','C']\n",
        "print(l.pop(2))      # element at index 2 has poped out.\n",
        "print(l)"
      ],
      "execution_count": null,
      "outputs": [
        {
          "output_type": "stream",
          "text": [
            "Python\n",
            "['C', 'Java', 'C']\n"
          ],
          "name": "stdout"
        }
      ]
    },
    {
      "cell_type": "code",
      "metadata": {
        "colab": {
          "base_uri": "https://localhost:8080/"
        },
        "id": "VwGeYMW3jKdl",
        "outputId": "05fc26d2-f246-491d-f2ec-de2a7ed79077"
      },
      "source": [
        "l = ['C','Java','Python','C']\n",
        "print(l.pop(0))      # element at index 0 has poped out.\n",
        "print(l)"
      ],
      "execution_count": null,
      "outputs": [
        {
          "output_type": "stream",
          "text": [
            "C\n",
            "['Java', 'Python', 'C']\n"
          ],
          "name": "stdout"
        }
      ]
    },
    {
      "cell_type": "code",
      "metadata": {
        "colab": {
          "base_uri": "https://localhost:8080/"
        },
        "id": "IRoYUocBjbPS",
        "outputId": "2a6bf42a-cf9f-443e-f63a-7eed6398f00d"
      },
      "source": [
        "l = ['C','Java','Python','C']\n",
        "print(l.pop(-1))      # element at index -1 has poped out.\n",
        "print(l)"
      ],
      "execution_count": null,
      "outputs": [
        {
          "output_type": "stream",
          "text": [
            "C\n",
            "['C', 'Java', 'Python']\n"
          ],
          "name": "stdout"
        }
      ]
    },
    {
      "cell_type": "code",
      "metadata": {
        "colab": {
          "base_uri": "https://localhost:8080/"
        },
        "id": "T2YlIMVBj4JC",
        "outputId": "eff66818-dbe4-4277-d668-f1711665edb8"
      },
      "source": [
        "l = ['C','Java','Python','C']\n",
        "print(l.pop(-2))      # element at index -2 has poped out.\n",
        "print(l)"
      ],
      "execution_count": null,
      "outputs": [
        {
          "output_type": "stream",
          "text": [
            "Python\n",
            "['C', 'Java', 'C']\n"
          ],
          "name": "stdout"
        }
      ]
    },
    {
      "cell_type": "markdown",
      "metadata": {
        "id": "BqYigTKwrHVS"
      },
      "source": [
        "***clear()*** --> The clear() method removes all items from the list."
      ]
    },
    {
      "cell_type": "code",
      "metadata": {
        "colab": {
          "base_uri": "https://localhost:8080/"
        },
        "id": "V3sGS5VarRPv",
        "outputId": "e26fc2a8-0f5a-4e6a-eead-af08fadaeb29"
      },
      "source": [
        "l = [10,20,30,40,50]\n",
        "l.clear()\n",
        "print(l)"
      ],
      "execution_count": null,
      "outputs": [
        {
          "output_type": "stream",
          "text": [
            "[]\n"
          ],
          "name": "stdout"
        }
      ]
    },
    {
      "cell_type": "code",
      "metadata": {
        "colab": {
          "base_uri": "https://localhost:8080/"
        },
        "id": "J0db80whrpYG",
        "outputId": "d5d0c229-090c-4f47-e411-2c82bf32b67b"
      },
      "source": [
        "l = [10,20,{30,40},50,(60,70)]\n",
        "l.clear()\n",
        "print(l)"
      ],
      "execution_count": null,
      "outputs": [
        {
          "output_type": "stream",
          "text": [
            "[]\n"
          ],
          "name": "stdout"
        }
      ]
    },
    {
      "cell_type": "markdown",
      "metadata": {
        "id": "CWhTL7gOsIw3"
      },
      "source": [
        "***index()*** --> The index() method returns the index of the specified element in the list."
      ]
    },
    {
      "cell_type": "code",
      "metadata": {
        "colab": {
          "base_uri": "https://localhost:8080/"
        },
        "id": "d3VDEFQhsSjy",
        "outputId": "1240dee6-934d-458a-dd45-79ea73eea292"
      },
      "source": [
        "l = [10,20,30,40,50]\n",
        "print(l.index(20))"
      ],
      "execution_count": null,
      "outputs": [
        {
          "output_type": "stream",
          "text": [
            "1\n"
          ],
          "name": "stdout"
        }
      ]
    },
    {
      "cell_type": "code",
      "metadata": {
        "colab": {
          "base_uri": "https://localhost:8080/"
        },
        "id": "WrCTOjdPsc5q",
        "outputId": "f2c8468f-c347-489e-97f8-44bc1c2147bd"
      },
      "source": [
        "l = [10,20,30,40,50]\n",
        "print(l.index(50))"
      ],
      "execution_count": null,
      "outputs": [
        {
          "output_type": "stream",
          "text": [
            "4\n"
          ],
          "name": "stdout"
        }
      ]
    },
    {
      "cell_type": "code",
      "metadata": {
        "colab": {
          "base_uri": "https://localhost:8080/"
        },
        "id": "peT3hxywshYD",
        "outputId": "e7a1bca3-6dc6-4c6c-eb0d-55c7632217a6"
      },
      "source": [
        "l = ['a','e','i','o','u']\n",
        "print(l.index('e'))"
      ],
      "execution_count": null,
      "outputs": [
        {
          "output_type": "stream",
          "text": [
            "1\n"
          ],
          "name": "stdout"
        }
      ]
    },
    {
      "cell_type": "code",
      "metadata": {
        "colab": {
          "base_uri": "https://localhost:8080/"
        },
        "id": "j2t-2WZOswyJ",
        "outputId": "2bed0c40-66e1-47c4-8eed-72c9d7e0a5c5"
      },
      "source": [
        "l = ['a','e','i','o','u']\n",
        "print(l.index('o'))"
      ],
      "execution_count": null,
      "outputs": [
        {
          "output_type": "stream",
          "text": [
            "3\n"
          ],
          "name": "stdout"
        }
      ]
    },
    {
      "cell_type": "code",
      "metadata": {
        "colab": {
          "base_uri": "https://localhost:8080/"
        },
        "id": "S4W3Hlo2uFVA",
        "outputId": "5e5cda41-5522-4bea-93b2-91f881293b59"
      },
      "source": [
        "l = [10,20,40,(50,20),10]\n",
        "print(l.index((50,20)))"
      ],
      "execution_count": null,
      "outputs": [
        {
          "output_type": "stream",
          "text": [
            "3\n"
          ],
          "name": "stdout"
        }
      ]
    },
    {
      "cell_type": "markdown",
      "metadata": {
        "id": "ibIhe7TatOgW"
      },
      "source": [
        "***count()*** --> The count() method returns the number of times the specified element appears in the list.\n",
        "\n"
      ]
    },
    {
      "cell_type": "code",
      "metadata": {
        "colab": {
          "base_uri": "https://localhost:8080/"
        },
        "id": "XP0j_oLptaOw",
        "outputId": "9df1b33e-9edb-4288-c5bb-95509227f46f"
      },
      "source": [
        "l = [10,20,40,50,20,10]\n",
        "print(l.count(20))"
      ],
      "execution_count": null,
      "outputs": [
        {
          "output_type": "stream",
          "text": [
            "2\n"
          ],
          "name": "stdout"
        }
      ]
    },
    {
      "cell_type": "code",
      "metadata": {
        "colab": {
          "base_uri": "https://localhost:8080/"
        },
        "id": "s_vCSaGGtn1F",
        "outputId": "3a8a96d0-3594-46f8-d6c9-ad73f491ff2e"
      },
      "source": [
        "l = [10,20,40,50,20,10]\n",
        "print(l.count(30))"
      ],
      "execution_count": null,
      "outputs": [
        {
          "output_type": "stream",
          "text": [
            "0\n"
          ],
          "name": "stdout"
        }
      ]
    },
    {
      "cell_type": "code",
      "metadata": {
        "colab": {
          "base_uri": "https://localhost:8080/"
        },
        "id": "0cwO-YGhtyKU",
        "outputId": "e94f09ba-469e-44e2-bdf8-3e1b1be4dc15"
      },
      "source": [
        "l = [10,20,40,(50,20),10]\n",
        "print(l.count((50,20)))"
      ],
      "execution_count": null,
      "outputs": [
        {
          "output_type": "stream",
          "text": [
            "1\n"
          ],
          "name": "stdout"
        }
      ]
    },
    {
      "cell_type": "code",
      "metadata": {
        "colab": {
          "base_uri": "https://localhost:8080/"
        },
        "id": "_ecsxScgt8P-",
        "outputId": "6c03cd93-1058-405e-aacd-d8e9d08e7bd8"
      },
      "source": [
        "l = ['a','e','i','o','u','i']\n",
        "print(l.count('i'))"
      ],
      "execution_count": null,
      "outputs": [
        {
          "output_type": "stream",
          "text": [
            "2\n"
          ],
          "name": "stdout"
        }
      ]
    },
    {
      "cell_type": "markdown",
      "metadata": {
        "id": "4DPYidAMvkrI"
      },
      "source": [
        "***sort()*** --> The sort() method sorts the elements of a given list in a specific ascending or descending order."
      ]
    },
    {
      "cell_type": "code",
      "metadata": {
        "colab": {
          "base_uri": "https://localhost:8080/"
        },
        "id": "m6jJgZ9Yv2fx",
        "outputId": "8da4e990-4971-406b-8f2e-83e90db47cee"
      },
      "source": [
        "l = ['e','i','o','u','a']\n",
        "l.sort() # Sorting in a ascending order.\n",
        "print(l)"
      ],
      "execution_count": null,
      "outputs": [
        {
          "output_type": "stream",
          "text": [
            "['a', 'e', 'i', 'o', 'u']\n"
          ],
          "name": "stdout"
        }
      ]
    },
    {
      "cell_type": "code",
      "metadata": {
        "colab": {
          "base_uri": "https://localhost:8080/"
        },
        "id": "PbHoJxZ02E2f",
        "outputId": "5123b8e6-ddb3-45a0-9baf-18546e4d34b6"
      },
      "source": [
        "l = ['e','i','o','u','a']\n",
        "l.sort(reverse=True) # Sorting in a dscending order.\n",
        "print(l)"
      ],
      "execution_count": null,
      "outputs": [
        {
          "output_type": "stream",
          "text": [
            "['u', 'o', 'i', 'e', 'a']\n"
          ],
          "name": "stdout"
        }
      ]
    },
    {
      "cell_type": "code",
      "metadata": {
        "colab": {
          "base_uri": "https://localhost:8080/"
        },
        "id": "ifIOAC0W2LtA",
        "outputId": "39730ba5-9461-4d02-a996-36f01c524327"
      },
      "source": [
        "l = [10,30,50,20,70,60]\n",
        "l.sort()\n",
        "print(l)"
      ],
      "execution_count": null,
      "outputs": [
        {
          "output_type": "stream",
          "text": [
            "[10, 20, 30, 50, 60, 70]\n"
          ],
          "name": "stdout"
        }
      ]
    },
    {
      "cell_type": "code",
      "metadata": {
        "colab": {
          "base_uri": "https://localhost:8080/"
        },
        "id": "NWu5w-eJ2-kA",
        "outputId": "6a0137b3-aa20-4cc2-9751-775bde091a6b"
      },
      "source": [
        "l = [10,30,50,20,70,60]\n",
        "l.sort(reverse=True)\n",
        "print(l)"
      ],
      "execution_count": null,
      "outputs": [
        {
          "output_type": "stream",
          "text": [
            "[70, 60, 50, 30, 20, 10]\n"
          ],
          "name": "stdout"
        }
      ]
    },
    {
      "cell_type": "markdown",
      "metadata": {
        "id": "R0MUU9jBADyG"
      },
      "source": [
        "***reverse()*** --> The reverse() method reverses the elements of the list."
      ]
    },
    {
      "cell_type": "code",
      "metadata": {
        "colab": {
          "base_uri": "https://localhost:8080/"
        },
        "id": "LUrwo4BCAR0o",
        "outputId": "4c23d4ea-ee5b-4f7d-b482-f945389b74f0"
      },
      "source": [
        "l = [10,30,50,20,70,60]\n",
        "l.reverse()\n",
        "print(l)"
      ],
      "execution_count": null,
      "outputs": [
        {
          "output_type": "stream",
          "text": [
            "[60, 70, 20, 50, 30, 10]\n"
          ],
          "name": "stdout"
        }
      ]
    },
    {
      "cell_type": "code",
      "metadata": {
        "colab": {
          "base_uri": "https://localhost:8080/"
        },
        "id": "eM9H1GkBAaD4",
        "outputId": "4a2aa620-5e51-456b-d48f-c25e2246d1f9"
      },
      "source": [
        "l = ['a','e','i','o','u']\n",
        "l.reverse()\n",
        "print(l)"
      ],
      "execution_count": null,
      "outputs": [
        {
          "output_type": "stream",
          "text": [
            "['u', 'o', 'i', 'e', 'a']\n"
          ],
          "name": "stdout"
        }
      ]
    },
    {
      "cell_type": "code",
      "metadata": {
        "colab": {
          "base_uri": "https://localhost:8080/"
        },
        "id": "5A0wEvsTAlOY",
        "outputId": "85da807b-7b02-4017-abc9-389a2615eabe"
      },
      "source": [
        "l = [10,30,50,(20,70),60]\n",
        "l.reverse()\n",
        "print(l)"
      ],
      "execution_count": null,
      "outputs": [
        {
          "output_type": "stream",
          "text": [
            "[60, (20, 70), 50, 30, 10]\n"
          ],
          "name": "stdout"
        }
      ]
    },
    {
      "cell_type": "code",
      "metadata": {
        "colab": {
          "base_uri": "https://localhost:8080/"
        },
        "id": "YgXQhrEwAv-8",
        "outputId": "6f51e633-a4be-4bb7-df10-09af13ebda70"
      },
      "source": [
        "l = [10,30,50,20,70,60]\n",
        "print(l[::-1])      # Reversing the list using slicing. -1 represents reverse."
      ],
      "execution_count": null,
      "outputs": [
        {
          "output_type": "stream",
          "text": [
            "[60, 70, 20, 50, 30, 10]\n"
          ],
          "name": "stdout"
        }
      ]
    },
    {
      "cell_type": "code",
      "metadata": {
        "id": "W-crWbglA6H3"
      },
      "source": [
        ""
      ],
      "execution_count": null,
      "outputs": []
    }
  ]
}